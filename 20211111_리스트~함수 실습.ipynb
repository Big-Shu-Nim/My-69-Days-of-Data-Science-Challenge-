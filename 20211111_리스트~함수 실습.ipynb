{
 "cells": [
  {
   "cell_type": "code",
   "execution_count": 1,
   "id": "3875516e",
   "metadata": {},
   "outputs": [
    {
     "name": "stdout",
     "output_type": "stream",
     "text": [
      "5\n",
      "4\n",
      "3\n",
      "2\n",
      "1\n",
      "현재 데이터는 [1, 2, 3, 4, 5]\n",
      "이번에는 reversed(data)로 for 문처리\n",
      "5\n",
      "4\n",
      "3\n",
      "2\n",
      "1\n",
      "reversed(data)는 <list_reverseiterator object at 0x7fcef87f46d0> 입니다\n",
      "현재 데이터는 [1, 2, 3, 4, 5] 입니다.\n",
      "data.reverse()처리를 합니다.\n",
      "현재 데이터는\", data 입니다.\n"
     ]
    }
   ],
   "source": [
    "data= [1,2,3,4,5]\n",
    "data\n",
    "\n",
    "for d in data[::-1]:\n",
    "    print(d)\n",
    "\n",
    "print(\"현재 데이터는\", data)\n",
    "\n",
    "print(\"이번에는 reversed(data)로 for 문처리\")\n",
    "for d in reversed(data):\n",
    "    print(d)\n",
    "print(\"reversed(data)는\", reversed(data), '입니다')\n",
    "print(\"현재 데이터는\", data, '입니다.')\n",
    "\n",
    "print('data.reverse()처리를 합니다.')\n",
    "data.reverse()\n",
    "print('현재 데이터는\", data', '입니다.')\n",
    "\n"
   ]
  },
  {
   "cell_type": "code",
   "execution_count": 2,
   "id": "f351d959",
   "metadata": {},
   "outputs": [
    {
     "ename": "SyntaxError",
     "evalue": "invalid syntax (<ipython-input-2-68e80ba855b0>, line 17)",
     "output_type": "error",
     "traceback": [
      "\u001b[0;36m  File \u001b[0;32m\"<ipython-input-2-68e80ba855b0>\"\u001b[0;36m, line \u001b[0;32m17\u001b[0m\n\u001b[0;31m    print('현재 데이터는\", data, '입니다.')\u001b[0m\n\u001b[0m                            ^\u001b[0m\n\u001b[0;31mSyntaxError\u001b[0m\u001b[0;31m:\u001b[0m invalid syntax\n"
     ]
    }
   ],
   "source": [
    "data= [1,2,3,4,5]\n",
    "data\n",
    "\n",
    "for d in data[::-1]:\n",
    "    print(d)\n",
    "\n",
    "print(\"현재 데이터는\", data)\n",
    "\n",
    "print(\"이번에는 reversed(data)로 for 문처리\")\n",
    "for d in reversed(data):\n",
    "    print(d)\n",
    "print(\"reversed(data)는\", reversed(data), '입니다')\n",
    "print(\"현재 데이터는\", data, '입니다.')\n",
    "\n",
    "print('data.reverse()처리를 합니다.')\n",
    "data.reverse()\n",
    "print('현재 데이터는\", data, '입니다.')"
   ]
  },
  {
   "cell_type": "code",
   "execution_count": 3,
   "id": "dfd5beec",
   "metadata": {},
   "outputs": [
    {
     "name": "stdout",
     "output_type": "stream",
     "text": [
      "5\n",
      "4\n",
      "3\n",
      "2\n",
      "1\n",
      "현재 데이터는 [1, 2, 3, 4, 5]\n",
      "이번에는 reversed(data)로 for 문처리\n",
      "5\n",
      "4\n",
      "3\n",
      "2\n",
      "1\n",
      "reversed(data)는 <list_reverseiterator object at 0x7fcef87f4610> 입니다\n",
      "현재 데이터는 [1, 2, 3, 4, 5] 입니다.\n",
      "data.reverse()처리를 합니다.\n",
      "현재 데이터는 [5, 4, 3, 2, 1] 입니다.\n"
     ]
    }
   ],
   "source": [
    "data= [1,2,3,4,5]\n",
    "data\n",
    "\n",
    "for d in data[::-1]:\n",
    "    print(d)\n",
    "\n",
    "print(\"현재 데이터는\", data)\n",
    "\n",
    "print(\"이번에는 reversed(data)로 for 문처리\")\n",
    "for d in reversed(data):\n",
    "    print(d)\n",
    "print(\"reversed(data)는\", reversed(data), '입니다')\n",
    "print(\"현재 데이터는\", data, '입니다.')\n",
    "\n",
    "print('data.reverse()처리를 합니다.')\n",
    "data.reverse()\n",
    "print('현재 데이터는', data, '입니다.')"
   ]
  },
  {
   "cell_type": "code",
   "execution_count": 4,
   "id": "10cea595",
   "metadata": {},
   "outputs": [
    {
     "name": "stdout",
     "output_type": "stream",
     "text": [
      "[5, 4, 3, 2, 1]\n"
     ]
    },
    {
     "data": {
      "text/plain": [
       "<list_iterator at 0x7fcef87eedc0>"
      ]
     },
     "execution_count": 4,
     "metadata": {},
     "output_type": "execute_result"
    }
   ],
   "source": [
    "print(data)\n",
    "iter(data)"
   ]
  },
  {
   "cell_type": "code",
   "execution_count": 5,
   "id": "02fd4492",
   "metadata": {},
   "outputs": [
    {
     "data": {
      "text/plain": [
       "[5, 4, 3, 2, 1]"
      ]
     },
     "execution_count": 5,
     "metadata": {},
     "output_type": "execute_result"
    }
   ],
   "source": [
    "data"
   ]
  },
  {
   "cell_type": "code",
   "execution_count": 6,
   "id": "163e5e31",
   "metadata": {},
   "outputs": [
    {
     "name": "stdout",
     "output_type": "stream",
     "text": [
      "1\n",
      "2\n",
      "5\n",
      "4\n"
     ]
    }
   ],
   "source": [
    "data = [1,2,3,4,5]\n",
    "\n",
    "it = iter(data)\n",
    "print(next(it))\n",
    "print(next(it))\n",
    "\n",
    "rv=reversed(data)\n",
    "print(next(rv))\n",
    "print(next(rv))\n",
    "\n"
   ]
  },
  {
   "cell_type": "code",
   "execution_count": 7,
   "id": "b8a89c8f",
   "metadata": {},
   "outputs": [
    {
     "data": {
      "text/plain": [
       "<list_iterator at 0x7fcef87f4b50>"
      ]
     },
     "execution_count": 7,
     "metadata": {},
     "output_type": "execute_result"
    }
   ],
   "source": [
    "it"
   ]
  },
  {
   "cell_type": "code",
   "execution_count": 8,
   "id": "2cd7f44c",
   "metadata": {},
   "outputs": [
    {
     "name": "stdout",
     "output_type": "stream",
     "text": [
      "city data is ['seoul', 'daejeon', 'daekoo', 'busan']\n",
      "sales data are [80, 60, 22, 50, 75]\n",
      "we are going to aggregreate those two data sets\n",
      "('seoul', 80)\n",
      "('daejeon', 60)\n",
      "('daekoo', 22)\n",
      "('busan', 50)\n"
     ]
    }
   ],
   "source": [
    "city=['seoul', 'daejeon', 'daekoo', 'busan']\n",
    "sale= [80, 60, 22, 50, 75]\n",
    "\n",
    "print(\"city data is\", city)\n",
    "print('sales data are', sale)\n",
    "\n",
    "print('we are going to aggregreate those two data sets')\n",
    "\n",
    "for d in zip(city, sale):\n",
    "    print(d)\n",
    "    "
   ]
  },
  {
   "cell_type": "code",
   "execution_count": 9,
   "id": "0f17bef2",
   "metadata": {},
   "outputs": [],
   "source": [
    "#zip이라는 매쏘드를 사용하면 두개의 리스트를 조합할수 있다.\n"
   ]
  },
  {
   "cell_type": "code",
   "execution_count": 10,
   "id": "41bc0460",
   "metadata": {},
   "outputs": [
    {
     "name": "stdout",
     "output_type": "stream",
     "text": [
      "data+index\n",
      "(0, 'seoul')\n",
      "(1, 'daejeon')\n",
      "(2, 'daekoo')\n",
      "(3, 'busan')\n"
     ]
    }
   ],
   "source": [
    "print('data+index')\n",
    "\n",
    "for d in enumerate(city):\n",
    "    print(d)\n",
    "    "
   ]
  },
  {
   "cell_type": "code",
   "execution_count": 11,
   "id": "b9c456a7",
   "metadata": {},
   "outputs": [],
   "source": [
    "#enumerate를 사용하면 element와 index가 조합된다. "
   ]
  },
  {
   "cell_type": "code",
   "execution_count": 12,
   "id": "b204b16e",
   "metadata": {},
   "outputs": [
    {
     "name": "stdout",
     "output_type": "stream",
     "text": [
      "City names are... seoul The sale is 80\n",
      "City names are... daejeon The sale is 60\n",
      "City names are... daekoo The sale is 22\n",
      "City names are... busan The sale is 50\n"
     ]
    }
   ],
   "source": [
    "for c, s in zip(city, sale):\n",
    "    print('City names are...', c, 'The sale is', s)"
   ]
  },
  {
   "cell_type": "code",
   "execution_count": 13,
   "id": "c2fb600b",
   "metadata": {},
   "outputs": [
    {
     "name": "stdout",
     "output_type": "stream",
     "text": [
      "City: seoul Sale 80\n",
      "City: daejeon Sale 60\n",
      "City: daekoo Sale 22\n",
      "City: busan Sale 50\n"
     ]
    }
   ],
   "source": [
    "for c, s in zip(city, sale):\n",
    "    print('City:', c, 'Sale', s)"
   ]
  },
  {
   "cell_type": "code",
   "execution_count": 14,
   "id": "46900fdd",
   "metadata": {},
   "outputs": [],
   "source": [
    "#unpack 은 반대로 리스트를 쪼개는데 따로 함수가 있는게 아니라 zip을 사용하되 parameters을 두개 쓴다.\n"
   ]
  },
  {
   "cell_type": "code",
   "execution_count": 15,
   "id": "845d98f9",
   "metadata": {},
   "outputs": [],
   "source": [
    "data = [1,2,3]\n",
    "d1, d2, d3 = data\n",
    "\n"
   ]
  },
  {
   "cell_type": "code",
   "execution_count": 16,
   "id": "23956990",
   "metadata": {},
   "outputs": [
    {
     "data": {
      "text/plain": [
       "1"
      ]
     },
     "execution_count": 16,
     "metadata": {},
     "output_type": "execute_result"
    }
   ],
   "source": [
    "d1"
   ]
  },
  {
   "cell_type": "code",
   "execution_count": 17,
   "id": "b1b35efc",
   "metadata": {},
   "outputs": [
    {
     "data": {
      "text/plain": [
       "2"
      ]
     },
     "execution_count": 17,
     "metadata": {},
     "output_type": "execute_result"
    }
   ],
   "source": [
    "d2\n"
   ]
  },
  {
   "cell_type": "code",
   "execution_count": 18,
   "id": "2c21e240",
   "metadata": {},
   "outputs": [
    {
     "data": {
      "text/plain": [
       "3"
      ]
     },
     "execution_count": 18,
     "metadata": {},
     "output_type": "execute_result"
    }
   ],
   "source": [
    "d3"
   ]
  },
  {
   "cell_type": "code",
   "execution_count": 19,
   "id": "fc11e8b1",
   "metadata": {},
   "outputs": [
    {
     "name": "stdout",
     "output_type": "stream",
     "text": [
      "Our current data is [1, 2, 3, 4, 5]\n",
      "new data is [2, 4, 8, 10]\n"
     ]
    }
   ],
   "source": [
    "data= [1,2,3,4,5]\n",
    "print('Our current data is', data)\n",
    "\n",
    "ndata=[n*2 for n in data if n!=3]\n",
    "\n",
    "print('new data is', ndata)\n",
    "\n"
   ]
  },
  {
   "cell_type": "code",
   "execution_count": 20,
   "id": "ba97bb61",
   "metadata": {},
   "outputs": [],
   "source": [
    "#In Python != is defined as not equal to operator. "
   ]
  },
  {
   "cell_type": "code",
   "execution_count": 21,
   "id": "69647132",
   "metadata": {},
   "outputs": [],
   "source": [
    "# 리스트 내의 요소를 변수로 꺼내고 조건이 True면 식의 결과를 리스트로 하는것 \n",
    "# comprehension 이라고 한다. "
   ]
  },
  {
   "cell_type": "code",
   "execution_count": 22,
   "id": "c8f63d0f",
   "metadata": {},
   "outputs": [
    {
     "data": {
      "text/plain": [
       "[80, 60, 22, 50, 75]"
      ]
     },
     "execution_count": 22,
     "metadata": {},
     "output_type": "execute_result"
    }
   ],
   "source": [
    "sale"
   ]
  },
  {
   "cell_type": "code",
   "execution_count": 23,
   "id": "7769db41",
   "metadata": {},
   "outputs": [
    {
     "data": {
      "text/plain": [
       "22"
      ]
     },
     "execution_count": 23,
     "metadata": {},
     "output_type": "execute_result"
    }
   ],
   "source": [
    "max(sale)\n",
    "min(sale)\n"
   ]
  },
  {
   "cell_type": "code",
   "execution_count": 24,
   "id": "4af297f4",
   "metadata": {},
   "outputs": [
    {
     "data": {
      "text/plain": [
       "80"
      ]
     },
     "execution_count": 24,
     "metadata": {},
     "output_type": "execute_result"
    }
   ],
   "source": [
    "max(sale)\n"
   ]
  },
  {
   "cell_type": "code",
   "execution_count": 25,
   "id": "c6d19d98",
   "metadata": {},
   "outputs": [
    {
     "name": "stdout",
     "output_type": "stream",
     "text": [
      "22\n",
      "[22, 50, 60, 75, 80]\n",
      "287\n"
     ]
    }
   ],
   "source": [
    "print(min(sale))\n",
    "print(sorted(sale))\n",
    "print(sum(sale))\n"
   ]
  },
  {
   "cell_type": "code",
   "execution_count": 26,
   "id": "03e79298",
   "metadata": {},
   "outputs": [],
   "source": [
    "# 최소값 최대값, 정렬. 리스트의 합같은것은 in build function으로 가능한듯. "
   ]
  },
  {
   "cell_type": "code",
   "execution_count": 27,
   "id": "7b52058e",
   "metadata": {},
   "outputs": [
    {
     "data": {
      "text/plain": [
       "[['seoul', 32, 25], ['daejeon', 28, 21], ['daeku', 27, 20]]"
      ]
     },
     "execution_count": 27,
     "metadata": {},
     "output_type": "execute_result"
    }
   ],
   "source": [
    "data=[['seoul', 32,25], ['daejeon', 28, 21], ['daeku', 27,20]]\n",
    "\n",
    "data"
   ]
  },
  {
   "cell_type": "code",
   "execution_count": 28,
   "id": "7b98c583",
   "metadata": {},
   "outputs": [
    {
     "name": "stdout",
     "output_type": "stream",
     "text": [
      "도시별 데이터는 ['seoul', 32, 25] 입니다.\n",
      "seoul\t32\t25\t\n",
      "도시별 데이터는 ['daejeon', 28, 21] 입니다.\n",
      "daejeon\t28\t21\t\n",
      "도시별 데이터는 ['daeku', 27, 20] 입니다.\n",
      "daeku\t27\t20\t\n"
     ]
    }
   ],
   "source": [
    "for dat in data:\n",
    "    print('도시별 데이터는', dat,'입니다.')\n",
    "    for d in dat:\n",
    "        print(d, end='\\t')\n",
    "    print()\n",
    "    \n",
    "    \n",
    "    "
   ]
  },
  {
   "cell_type": "code",
   "execution_count": 29,
   "id": "4bd1d768",
   "metadata": {},
   "outputs": [],
   "source": [
    "#다차원 리스트는 다시봐도 이해가 잘안된다. \n",
    "#특히 for 구문 중첩;"
   ]
  },
  {
   "cell_type": "code",
   "execution_count": 30,
   "id": "a13cd991",
   "metadata": {},
   "outputs": [
    {
     "ename": "NameError",
     "evalue": "name 'place' is not defined",
     "output_type": "error",
     "traceback": [
      "\u001b[0;31m---------------------------------------------------------------------------\u001b[0m",
      "\u001b[0;31mNameError\u001b[0m                                 Traceback (most recent call last)",
      "\u001b[0;32m<ipython-input-30-9ede150c7981>\u001b[0m in \u001b[0;36m<module>\u001b[0;34m\u001b[0m\n\u001b[1;32m      4\u001b[0m \u001b[0mshop\u001b[0m\u001b[0;34m=\u001b[0m\u001b[0;34m'서울'\u001b[0m\u001b[0;34m\u001b[0m\u001b[0;34m\u001b[0m\u001b[0m\n\u001b[1;32m      5\u001b[0m \u001b[0;34m\u001b[0m\u001b[0m\n\u001b[0;32m----> 6\u001b[0;31m \u001b[0msell\u001b[0m\u001b[0;34m(\u001b[0m\u001b[0mshop\u001b[0m\u001b[0;34m)\u001b[0m\u001b[0;34m\u001b[0m\u001b[0;34m\u001b[0m\u001b[0m\n\u001b[0m",
      "\u001b[0;32m<ipython-input-30-9ede150c7981>\u001b[0m in \u001b[0;36msell\u001b[0;34m(price)\u001b[0m\n\u001b[1;32m      1\u001b[0m \u001b[0;32mdef\u001b[0m \u001b[0msell\u001b[0m\u001b[0;34m(\u001b[0m\u001b[0mprice\u001b[0m\u001b[0;34m)\u001b[0m\u001b[0;34m:\u001b[0m\u001b[0;34m\u001b[0m\u001b[0;34m\u001b[0m\u001b[0m\n\u001b[0;32m----> 2\u001b[0;31m     \u001b[0mprint\u001b[0m\u001b[0;34m(\u001b[0m\u001b[0mplace\u001b[0m\u001b[0;34m,\u001b[0m \u001b[0;34m'지점에서 판매가 되었습니다.'\u001b[0m\u001b[0;34m)\u001b[0m\u001b[0;34m\u001b[0m\u001b[0;34m\u001b[0m\u001b[0m\n\u001b[0m\u001b[1;32m      3\u001b[0m \u001b[0;34m\u001b[0m\u001b[0m\n\u001b[1;32m      4\u001b[0m \u001b[0mshop\u001b[0m\u001b[0;34m=\u001b[0m\u001b[0;34m'서울'\u001b[0m\u001b[0;34m\u001b[0m\u001b[0;34m\u001b[0m\u001b[0m\n\u001b[1;32m      5\u001b[0m \u001b[0;34m\u001b[0m\u001b[0m\n",
      "\u001b[0;31mNameError\u001b[0m: name 'place' is not defined"
     ]
    }
   ],
   "source": [
    "def sell(price):\n",
    "    print(place, '지점에서 판매가 되었습니다.')\n",
    "    \n",
    "shop='서울'\n",
    "\n",
    "sell(shop)"
   ]
  },
  {
   "cell_type": "code",
   "execution_count": 31,
   "id": "21f10a95",
   "metadata": {},
   "outputs": [
    {
     "name": "stdout",
     "output_type": "stream",
     "text": [
      "서울 지점에서 판매가 되었습니다.\n"
     ]
    }
   ],
   "source": [
    "def sell(place):\n",
    "    print(place, '지점에서 판매가 되었습니다.')\n",
    "    \n",
    "shop='서울'\n",
    "\n",
    "sell(shop)"
   ]
  },
  {
   "cell_type": "code",
   "execution_count": 32,
   "id": "688b0892",
   "metadata": {},
   "outputs": [],
   "source": [
    "#argument로 shop을 사용; argument와 parameter 동일할 필요없음. "
   ]
  },
  {
   "cell_type": "code",
   "execution_count": 33,
   "id": "1bf23a98",
   "metadata": {},
   "outputs": [
    {
     "ename": "SyntaxError",
     "evalue": "invalid syntax (<ipython-input-33-09b9453f49ce>, line 4)",
     "output_type": "error",
     "traceback": [
      "\u001b[0;36m  File \u001b[0;32m\"<ipython-input-33-09b9453f49ce>\"\u001b[0;36m, line \u001b[0;32m4\u001b[0m\n\u001b[0;31m    shop('서울'):\u001b[0m\n\u001b[0m               ^\u001b[0m\n\u001b[0;31mSyntaxError\u001b[0m\u001b[0;31m:\u001b[0m invalid syntax\n"
     ]
    }
   ],
   "source": [
    "def sell(palce):\n",
    "    print(place, '지점에서 판매가 되었습니다.')\n",
    "    \n",
    "shop('서울'):\n",
    "sell(shop)\n"
   ]
  },
  {
   "cell_type": "code",
   "execution_count": 34,
   "id": "177e8245",
   "metadata": {},
   "outputs": [],
   "source": [
    "def sell(palce):\n",
    "    print(place, '지점에서 판매가 되었습니다.')\n",
    "    \n"
   ]
  },
  {
   "cell_type": "code",
   "execution_count": 35,
   "id": "80148a24",
   "metadata": {},
   "outputs": [
    {
     "ename": "SyntaxError",
     "evalue": "invalid syntax (<ipython-input-35-2173cd5af3f6>, line 1)",
     "output_type": "error",
     "traceback": [
      "\u001b[0;36m  File \u001b[0;32m\"<ipython-input-35-2173cd5af3f6>\"\u001b[0;36m, line \u001b[0;32m1\u001b[0m\n\u001b[0;31m    shop('서울'):\u001b[0m\n\u001b[0m               ^\u001b[0m\n\u001b[0;31mSyntaxError\u001b[0m\u001b[0;31m:\u001b[0m invalid syntax\n"
     ]
    }
   ],
   "source": [
    "shop('서울'):\n",
    "sell(shop)"
   ]
  },
  {
   "cell_type": "code",
   "execution_count": 36,
   "id": "0472fcc6",
   "metadata": {},
   "outputs": [
    {
     "ename": "NameError",
     "evalue": "name 'place' is not defined",
     "output_type": "error",
     "traceback": [
      "\u001b[0;31m---------------------------------------------------------------------------\u001b[0m",
      "\u001b[0;31mNameError\u001b[0m                                 Traceback (most recent call last)",
      "\u001b[0;32m<ipython-input-36-29c8360622cb>\u001b[0m in \u001b[0;36m<module>\u001b[0;34m\u001b[0m\n\u001b[1;32m      2\u001b[0m     \u001b[0mprint\u001b[0m\u001b[0;34m(\u001b[0m\u001b[0mplace\u001b[0m\u001b[0;34m,\u001b[0m \u001b[0;34m'지점에서'\u001b[0m\u001b[0;34m,\u001b[0m \u001b[0mnum\u001b[0m\u001b[0;34m,\u001b[0m \u001b[0;34m'만 원 판매가 되었습니다.'\u001b[0m\u001b[0;34m)\u001b[0m\u001b[0;34m\u001b[0m\u001b[0;34m\u001b[0m\u001b[0m\n\u001b[1;32m      3\u001b[0m \u001b[0;34m\u001b[0m\u001b[0m\n\u001b[0;32m----> 4\u001b[0;31m \u001b[0msell\u001b[0m\u001b[0;34m(\u001b[0m\u001b[0;34m'서울'\u001b[0m\u001b[0;34m,\u001b[0m \u001b[0;36m5\u001b[0m\u001b[0;34m)\u001b[0m\u001b[0;34m\u001b[0m\u001b[0;34m\u001b[0m\u001b[0m\n\u001b[0m\u001b[1;32m      5\u001b[0m \u001b[0;34m\u001b[0m\u001b[0m\n",
      "\u001b[0;32m<ipython-input-36-29c8360622cb>\u001b[0m in \u001b[0;36msell\u001b[0;34m(price, num)\u001b[0m\n\u001b[1;32m      1\u001b[0m \u001b[0;32mdef\u001b[0m \u001b[0msell\u001b[0m\u001b[0;34m(\u001b[0m\u001b[0mprice\u001b[0m\u001b[0;34m,\u001b[0m \u001b[0mnum\u001b[0m\u001b[0;34m)\u001b[0m\u001b[0;34m:\u001b[0m\u001b[0;34m\u001b[0m\u001b[0;34m\u001b[0m\u001b[0m\n\u001b[0;32m----> 2\u001b[0;31m     \u001b[0mprint\u001b[0m\u001b[0;34m(\u001b[0m\u001b[0mplace\u001b[0m\u001b[0;34m,\u001b[0m \u001b[0;34m'지점에서'\u001b[0m\u001b[0;34m,\u001b[0m \u001b[0mnum\u001b[0m\u001b[0;34m,\u001b[0m \u001b[0;34m'만 원 판매가 되었습니다.'\u001b[0m\u001b[0;34m)\u001b[0m\u001b[0;34m\u001b[0m\u001b[0;34m\u001b[0m\u001b[0m\n\u001b[0m\u001b[1;32m      3\u001b[0m \u001b[0;34m\u001b[0m\u001b[0m\n\u001b[1;32m      4\u001b[0m \u001b[0msell\u001b[0m\u001b[0;34m(\u001b[0m\u001b[0;34m'서울'\u001b[0m\u001b[0;34m,\u001b[0m \u001b[0;36m5\u001b[0m\u001b[0;34m)\u001b[0m\u001b[0;34m\u001b[0m\u001b[0;34m\u001b[0m\u001b[0m\n\u001b[1;32m      5\u001b[0m \u001b[0;34m\u001b[0m\u001b[0m\n",
      "\u001b[0;31mNameError\u001b[0m: name 'place' is not defined"
     ]
    }
   ],
   "source": [
    "def sell(price, num):\n",
    "    print(place, '지점에서', num, '만 원 판매가 되었습니다.')\n",
    "    \n",
    "sell('서울', 5)\n",
    "\n"
   ]
  },
  {
   "cell_type": "code",
   "execution_count": 37,
   "id": "017144a9",
   "metadata": {},
   "outputs": [
    {
     "name": "stdout",
     "output_type": "stream",
     "text": [
      "서울 지점에서 5 만 원 판매가 되었습니다.\n"
     ]
    }
   ],
   "source": [
    "def sell(place, num):\n",
    "    print(place, '지점에서', num, '만 원 판매가 되었습니다.')\n",
    "    \n",
    "sell('서울', 5)"
   ]
  },
  {
   "cell_type": "code",
   "execution_count": 38,
   "id": "4fa9749a",
   "metadata": {},
   "outputs": [],
   "source": [
    "# ,를 사용해서 다양한 parameter적용가능 "
   ]
  },
  {
   "cell_type": "code",
   "execution_count": 39,
   "id": "d92beb38",
   "metadata": {},
   "outputs": [],
   "source": [
    "def sell():\n",
    "    print('판매가 되었습니다.')\n",
    "    "
   ]
  },
  {
   "cell_type": "code",
   "execution_count": 40,
   "id": "a12d9595",
   "metadata": {},
   "outputs": [
    {
     "name": "stdout",
     "output_type": "stream",
     "text": [
      "판매가 되었습니다.\n"
     ]
    }
   ],
   "source": [
    "sell()"
   ]
  },
  {
   "cell_type": "code",
   "execution_count": 41,
   "id": "bea754f4",
   "metadata": {},
   "outputs": [
    {
     "ename": "SyntaxError",
     "evalue": "invalid syntax (<ipython-input-41-148ade5714db>, line 1)",
     "output_type": "error",
     "traceback": [
      "\u001b[0;36m  File \u001b[0;32m\"<ipython-input-41-148ade5714db>\"\u001b[0;36m, line \u001b[0;32m1\u001b[0m\n\u001b[0;31m    sell(num=10):\u001b[0m\n\u001b[0m                 ^\u001b[0m\n\u001b[0;31mSyntaxError\u001b[0m\u001b[0;31m:\u001b[0m invalid syntax\n"
     ]
    }
   ],
   "source": [
    "sell(num=10):"
   ]
  },
  {
   "cell_type": "code",
   "execution_count": 42,
   "id": "a5d2c5a3",
   "metadata": {},
   "outputs": [
    {
     "name": "stdout",
     "output_type": "stream",
     "text": [
      "판매가 되었습니다.\n"
     ]
    }
   ],
   "source": [
    "sell()"
   ]
  },
  {
   "cell_type": "code",
   "execution_count": 43,
   "id": "abd979cf",
   "metadata": {},
   "outputs": [],
   "source": [
    "def sell(num=10):\n",
    "    print('판매가 되었습니다.')"
   ]
  },
  {
   "cell_type": "code",
   "execution_count": 44,
   "id": "0cd65653",
   "metadata": {},
   "outputs": [
    {
     "name": "stdout",
     "output_type": "stream",
     "text": [
      "판매가 되었습니다.\n"
     ]
    }
   ],
   "source": [
    "sell()"
   ]
  },
  {
   "cell_type": "code",
   "execution_count": 45,
   "id": "0cf75b81",
   "metadata": {},
   "outputs": [
    {
     "name": "stdout",
     "output_type": "stream",
     "text": [
      "판매가 되었습니다.\n"
     ]
    }
   ],
   "source": [
    "sell(5)"
   ]
  },
  {
   "cell_type": "code",
   "execution_count": 46,
   "id": "ce276456",
   "metadata": {},
   "outputs": [
    {
     "ename": "SyntaxError",
     "evalue": "unexpected EOF while parsing (<ipython-input-46-bfe55138bd4d>, line 2)",
     "output_type": "error",
     "traceback": [
      "\u001b[0;36m  File \u001b[0;32m\"<ipython-input-46-bfe55138bd4d>\"\u001b[0;36m, line \u001b[0;32m2\u001b[0m\n\u001b[0;31m    \u001b[0m\n\u001b[0m    ^\u001b[0m\n\u001b[0;31mSyntaxError\u001b[0m\u001b[0;31m:\u001b[0m unexpected EOF while parsing\n"
     ]
    }
   ],
   "source": [
    "def sell(num=10):\n",
    "    "
   ]
  },
  {
   "cell_type": "code",
   "execution_count": 47,
   "id": "7c6f1aba",
   "metadata": {},
   "outputs": [],
   "source": [
    "def sell(num=10):\n",
    "    print('판매가 되었습니다.')"
   ]
  },
  {
   "cell_type": "code",
   "execution_count": 48,
   "id": "d2f1416e",
   "metadata": {},
   "outputs": [
    {
     "name": "stdout",
     "output_type": "stream",
     "text": [
      "판매가 되었습니다.\n"
     ]
    }
   ],
   "source": [
    "sell()"
   ]
  },
  {
   "cell_type": "code",
   "execution_count": 49,
   "id": "a2e564ac",
   "metadata": {},
   "outputs": [
    {
     "ename": "IndentationError",
     "evalue": "expected an indented block (<ipython-input-49-6b618f887e7d>, line 3)",
     "output_type": "error",
     "traceback": [
      "\u001b[0;36m  File \u001b[0;32m\"<ipython-input-49-6b618f887e7d>\"\u001b[0;36m, line \u001b[0;32m3\u001b[0m\n\u001b[0;31m    def func2(a,b=2,c,d,e10):\u001b[0m\n\u001b[0m    ^\u001b[0m\n\u001b[0;31mIndentationError\u001b[0m\u001b[0;31m:\u001b[0m expected an indented block\n"
     ]
    }
   ],
   "source": [
    "def func1(a,b,c,d=2, e=10):\n",
    "    \n",
    "def func2(a,b=2,c,d,e10):\n",
    "    \n",
    "    \n",
    "    "
   ]
  },
  {
   "cell_type": "code",
   "execution_count": 50,
   "id": "5c99a923",
   "metadata": {},
   "outputs": [
    {
     "ename": "IndentationError",
     "evalue": "expected an indented block (<ipython-input-50-b6782b09903c>, line 3)",
     "output_type": "error",
     "traceback": [
      "\u001b[0;36m  File \u001b[0;32m\"<ipython-input-50-b6782b09903c>\"\u001b[0;36m, line \u001b[0;32m3\u001b[0m\n\u001b[0;31m    def func2(a,b=2,c,d,e=10):\u001b[0m\n\u001b[0m    ^\u001b[0m\n\u001b[0;31mIndentationError\u001b[0m\u001b[0;31m:\u001b[0m expected an indented block\n"
     ]
    }
   ],
   "source": [
    "def func1(a,b,c,d=2, e=10):\n",
    "    \n",
    "def func2(a,b=2,c,d,e=10):"
   ]
  },
  {
   "cell_type": "code",
   "execution_count": 51,
   "id": "195c1e57",
   "metadata": {},
   "outputs": [],
   "source": [
    " #디폴트는 오른쪽 부터 순서대로 지정할수 있다. "
   ]
  },
  {
   "cell_type": "code",
   "execution_count": 52,
   "id": "35a6ae40",
   "metadata": {},
   "outputs": [
    {
     "ename": "NameError",
     "evalue": "name 'fun1' is not defined",
     "output_type": "error",
     "traceback": [
      "\u001b[0;31m---------------------------------------------------------------------------\u001b[0m",
      "\u001b[0;31mNameError\u001b[0m                                 Traceback (most recent call last)",
      "\u001b[0;32m<ipython-input-52-94a1b0a93de6>\u001b[0m in \u001b[0;36m<module>\u001b[0;34m\u001b[0m\n\u001b[0;32m----> 1\u001b[0;31m \u001b[0mfun1\u001b[0m\u001b[0;34m(\u001b[0m\u001b[0;36m10\u001b[0m\u001b[0;34m,\u001b[0m\u001b[0;36m5\u001b[0m\u001b[0;34m,\u001b[0m\u001b[0;36m1\u001b[0m\u001b[0;34m,\u001b[0m \u001b[0md\u001b[0m\u001b[0;34m=\u001b[0m\u001b[0;36m1\u001b[0m\u001b[0;34m)\u001b[0m\u001b[0;34m\u001b[0m\u001b[0;34m\u001b[0m\u001b[0m\n\u001b[0m",
      "\u001b[0;31mNameError\u001b[0m: name 'fun1' is not defined"
     ]
    }
   ],
   "source": [
    "fun1(10,5,1, d=1)\n"
   ]
  },
  {
   "cell_type": "code",
   "execution_count": 53,
   "id": "7d319347",
   "metadata": {},
   "outputs": [],
   "source": [
    "def func(*args):\n",
    "    print(args)"
   ]
  },
  {
   "cell_type": "code",
   "execution_count": 54,
   "id": "c5f6a612",
   "metadata": {},
   "outputs": [],
   "source": [
    "def func(*args):\n",
    "    print(args)\n",
    "    \n",
    "    func(1,2,3,4,5)"
   ]
  },
  {
   "cell_type": "code",
   "execution_count": 55,
   "id": "e7f4a467",
   "metadata": {},
   "outputs": [
    {
     "name": "stdout",
     "output_type": "stream",
     "text": [
      "{'a': 1, 'b': 2, 'c': 3, 'd': 4, 'e': 5}\n"
     ]
    }
   ],
   "source": [
    "def func(**kwargs):\n",
    "    print(kwargs)\n",
    "    \n",
    "func(a=1, b=2, c=3, d=4, e=5)\n",
    "\n"
   ]
  },
  {
   "cell_type": "code",
   "execution_count": 56,
   "id": "68129dbc",
   "metadata": {},
   "outputs": [],
   "source": [
    "# 이렇게 argumet의 개수를 정의 하지 않아도 됨으로 variadic argument 라고 한다.\n",
    "# 그치만 실제 사용하는것을 좀 더 지켜봐야겠다. "
   ]
  },
  {
   "cell_type": "code",
   "execution_count": 57,
   "id": "763f3ff2",
   "metadata": {},
   "outputs": [],
   "source": [
    "def sell(place, price, num):\n",
    "    print(place, '지점에서', num, '회사에', price, '만 원 판매가 되었습니다.')\n",
    "    \n",
    "    tt=price*num\n",
    "    return tt"
   ]
  },
  {
   "cell_type": "code",
   "execution_count": 58,
   "id": "91100cf4",
   "metadata": {},
   "outputs": [
    {
     "ename": "NameError",
     "evalue": "name '가호동' is not defined",
     "output_type": "error",
     "traceback": [
      "\u001b[0;31m---------------------------------------------------------------------------\u001b[0m",
      "\u001b[0;31mNameError\u001b[0m                                 Traceback (most recent call last)",
      "\u001b[0;32m<ipython-input-58-6f25c968efde>\u001b[0m in \u001b[0;36m<module>\u001b[0;34m\u001b[0m\n\u001b[0;32m----> 1\u001b[0;31m \u001b[0msell\u001b[0m\u001b[0;34m(\u001b[0m\u001b[0m가호동\u001b[0m\u001b[0;34m,\u001b[0m \u001b[0;36m20\u001b[0m\u001b[0;34m,\u001b[0m \u001b[0;36m10\u001b[0m\u001b[0;34m)\u001b[0m\u001b[0;34m\u001b[0m\u001b[0;34m\u001b[0m\u001b[0m\n\u001b[0m",
      "\u001b[0;31mNameError\u001b[0m: name '가호동' is not defined"
     ]
    }
   ],
   "source": [
    "sell(가호동, 20, 10)"
   ]
  },
  {
   "cell_type": "code",
   "execution_count": 59,
   "id": "7762f5f9",
   "metadata": {},
   "outputs": [
    {
     "name": "stdout",
     "output_type": "stream",
     "text": [
      "가호동 지점에서 10 회사에 20 만 원 판매가 되었습니다.\n"
     ]
    },
    {
     "data": {
      "text/plain": [
       "200"
      ]
     },
     "execution_count": 59,
     "metadata": {},
     "output_type": "execute_result"
    }
   ],
   "source": [
    "sell('가호동', 20, 10)"
   ]
  },
  {
   "cell_type": "code",
   "execution_count": 60,
   "id": "5d919cb9",
   "metadata": {},
   "outputs": [],
   "source": [
    "#음 리턴은 쓰는거보다 실제로 해보니까 쏙쏙 들어오는구만. "
   ]
  },
  {
   "cell_type": "code",
   "execution_count": 61,
   "id": "e7b793cd",
   "metadata": {},
   "outputs": [
    {
     "name": "stdout",
     "output_type": "stream",
     "text": [
      "서울 지점에서 5 회사에 100 만 원 판매가 되었습니다.\n"
     ]
    }
   ],
   "source": [
    "total=sell('서울', 100,5)\n"
   ]
  },
  {
   "cell_type": "code",
   "execution_count": 62,
   "id": "74e0984b",
   "metadata": {},
   "outputs": [
    {
     "name": "stdout",
     "output_type": "stream",
     "text": [
      "seoul 지점에서 5 회사에 100 만 원 판매가 되었습니다.\n"
     ]
    },
    {
     "data": {
      "text/plain": [
       "500"
      ]
     },
     "execution_count": 62,
     "metadata": {},
     "output_type": "execute_result"
    }
   ],
   "source": [
    "sell('seoul',100,5)"
   ]
  },
  {
   "cell_type": "code",
   "execution_count": 63,
   "id": "b70ffeb5",
   "metadata": {},
   "outputs": [],
   "source": [
    "def sell(place, price, num):\n",
    "    print(place, '지점에서', num, '회사에', price,\n",
    "         '만원 판매가 되었습니다.')\n",
    "    \n",
    "    tt=price*num\n",
    "    return tt\n",
    "\n"
   ]
  },
  {
   "cell_type": "code",
   "execution_count": 64,
   "id": "033618b4",
   "metadata": {},
   "outputs": [
    {
     "name": "stdout",
     "output_type": "stream",
     "text": [
      "서울 지점에서 5 회사에 100 만원 판매가 되었습니다.\n",
      "매출액은 500 만 원이었습니다.\n"
     ]
    }
   ],
   "source": [
    "total=sell('서울',100,5)\n",
    "print('매출액은', total,'만 원이었습니다.')\n"
   ]
  },
  {
   "cell_type": "code",
   "execution_count": 65,
   "id": "c0ab7f16",
   "metadata": {},
   "outputs": [],
   "source": [
    "def sell():\n",
    "    y= 2021\n",
    "    m= 10\n",
    "    d =1\n",
    "    print(y,m,d,'일에 판매가 되었습니다.')\n",
    "    \n",
    "    return y, m,d"
   ]
  },
  {
   "cell_type": "code",
   "execution_count": 66,
   "id": "429e2e83",
   "metadata": {},
   "outputs": [
    {
     "name": "stdout",
     "output_type": "stream",
     "text": [
      "2021 10 1 일에 판매가 되었습니다.\n"
     ]
    }
   ],
   "source": [
    "sy, sm, sd= sell()\n"
   ]
  },
  {
   "cell_type": "code",
   "execution_count": 67,
   "id": "9a7d8e8f",
   "metadata": {},
   "outputs": [
    {
     "ename": "KeyboardInterrupt",
     "evalue": "Interrupted by user",
     "output_type": "error",
     "traceback": [
      "\u001b[0;31m---------------------------------------------------------------------------\u001b[0m",
      "\u001b[0;31mKeyboardInterrupt\u001b[0m                         Traceback (most recent call last)",
      "\u001b[0;32m<ipython-input-67-1505f6f6521a>\u001b[0m in \u001b[0;36m<module>\u001b[0;34m\u001b[0m\n\u001b[0;32m----> 1\u001b[0;31m \u001b[0mstr\u001b[0m\u001b[0;34m=\u001b[0m\u001b[0minput\u001b[0m\u001b[0;34m(\u001b[0m\u001b[0;34m'입력하세요'\u001b[0m\u001b[0;34m)\u001b[0m\u001b[0;34m\u001b[0m\u001b[0;34m\u001b[0m\u001b[0m\n\u001b[0m",
      "\u001b[0;32m~/opt/anaconda3/lib/python3.8/site-packages/ipykernel/kernelbase.py\u001b[0m in \u001b[0;36mraw_input\u001b[0;34m(self, prompt)\u001b[0m\n\u001b[1;32m    858\u001b[0m                 \u001b[0;34m\"raw_input was called, but this frontend does not support input requests.\"\u001b[0m\u001b[0;34m\u001b[0m\u001b[0;34m\u001b[0m\u001b[0m\n\u001b[1;32m    859\u001b[0m             )\n\u001b[0;32m--> 860\u001b[0;31m         return self._input_request(str(prompt),\n\u001b[0m\u001b[1;32m    861\u001b[0m             \u001b[0mself\u001b[0m\u001b[0;34m.\u001b[0m\u001b[0m_parent_ident\u001b[0m\u001b[0;34m,\u001b[0m\u001b[0;34m\u001b[0m\u001b[0;34m\u001b[0m\u001b[0m\n\u001b[1;32m    862\u001b[0m             \u001b[0mself\u001b[0m\u001b[0;34m.\u001b[0m\u001b[0m_parent_header\u001b[0m\u001b[0;34m,\u001b[0m\u001b[0;34m\u001b[0m\u001b[0;34m\u001b[0m\u001b[0m\n",
      "\u001b[0;32m~/opt/anaconda3/lib/python3.8/site-packages/ipykernel/kernelbase.py\u001b[0m in \u001b[0;36m_input_request\u001b[0;34m(self, prompt, ident, parent, password)\u001b[0m\n\u001b[1;32m    902\u001b[0m             \u001b[0;32mexcept\u001b[0m \u001b[0mKeyboardInterrupt\u001b[0m\u001b[0;34m:\u001b[0m\u001b[0;34m\u001b[0m\u001b[0;34m\u001b[0m\u001b[0m\n\u001b[1;32m    903\u001b[0m                 \u001b[0;31m# re-raise KeyboardInterrupt, to truncate traceback\u001b[0m\u001b[0;34m\u001b[0m\u001b[0;34m\u001b[0m\u001b[0;34m\u001b[0m\u001b[0m\n\u001b[0;32m--> 904\u001b[0;31m                 \u001b[0;32mraise\u001b[0m \u001b[0mKeyboardInterrupt\u001b[0m\u001b[0;34m(\u001b[0m\u001b[0;34m\"Interrupted by user\"\u001b[0m\u001b[0;34m)\u001b[0m \u001b[0;32mfrom\u001b[0m \u001b[0;32mNone\u001b[0m\u001b[0;34m\u001b[0m\u001b[0;34m\u001b[0m\u001b[0m\n\u001b[0m\u001b[1;32m    905\u001b[0m             \u001b[0;32mexcept\u001b[0m \u001b[0mException\u001b[0m \u001b[0;32mas\u001b[0m \u001b[0me\u001b[0m\u001b[0;34m:\u001b[0m\u001b[0;34m\u001b[0m\u001b[0;34m\u001b[0m\u001b[0m\n\u001b[1;32m    906\u001b[0m                 \u001b[0mself\u001b[0m\u001b[0;34m.\u001b[0m\u001b[0mlog\u001b[0m\u001b[0;34m.\u001b[0m\u001b[0mwarning\u001b[0m\u001b[0;34m(\u001b[0m\u001b[0;34m\"Invalid Message:\"\u001b[0m\u001b[0;34m,\u001b[0m \u001b[0mexc_info\u001b[0m\u001b[0;34m=\u001b[0m\u001b[0;32mTrue\u001b[0m\u001b[0;34m)\u001b[0m\u001b[0;34m\u001b[0m\u001b[0;34m\u001b[0m\u001b[0m\n",
      "\u001b[0;31mKeyboardInterrupt\u001b[0m: Interrupted by user"
     ]
    }
   ],
   "source": [
    "str=input('입력하세요')"
   ]
  },
  {
   "cell_type": "code",
   "execution_count": null,
   "id": "39248d7b",
   "metadata": {},
   "outputs": [],
   "source": []
  },
  {
   "cell_type": "code",
   "execution_count": 68,
   "id": "87b60a51",
   "metadata": {},
   "outputs": [
    {
     "name": "stdout",
     "output_type": "stream",
     "text": [
      "조작할 번호를 누르세오ㅛ(0-2):1\n",
      "데이터를 갱신합니다.\n"
     ]
    }
   ],
   "source": [
    "def append():\n",
    "    print('데이터를 추가합니다.')\n",
    "def update():\n",
    "    print('데이터를 갱신합니다.')\n",
    "def delete():\n",
    "    print('데이터를 삭제합니다,')\n",
    "\n",
    "list=[append,update, delete]\n",
    "\n",
    "res=int(input('조작할 번호를 누르세오ㅛ(0-2):'))\n",
    "\n",
    "if 0 <= res and res <len(list):\n",
    "    list[res]()\n",
    "    "
   ]
  },
  {
   "cell_type": "code",
   "execution_count": null,
   "id": "4dea196e",
   "metadata": {},
   "outputs": [],
   "source": [
    "#뭐지 작동이 안돼!!!"
   ]
  },
  {
   "cell_type": "code",
   "execution_count": 69,
   "id": "4b611ded",
   "metadata": {},
   "outputs": [
    {
     "ename": "SyntaxError",
     "evalue": "invalid syntax (<ipython-input-69-18859e9dae91>, line 1)",
     "output_type": "error",
     "traceback": [
      "\u001b[0;36m  File \u001b[0;32m\"<ipython-input-69-18859e9dae91>\"\u001b[0;36m, line \u001b[0;32m1\u001b[0m\n\u001b[0;31m    lamda x: x*2\u001b[0m\n\u001b[0m          ^\u001b[0m\n\u001b[0;31mSyntaxError\u001b[0m\u001b[0;31m:\u001b[0m invalid syntax\n"
     ]
    }
   ],
   "source": [
    "lamda x: x*2"
   ]
  },
  {
   "cell_type": "code",
   "execution_count": 70,
   "id": "630541d8",
   "metadata": {},
   "outputs": [
    {
     "data": {
      "text/plain": [
       "<function __main__.<lambda>(x)>"
      ]
     },
     "execution_count": 70,
     "metadata": {},
     "output_type": "execute_result"
    }
   ],
   "source": [
    "lambda x: x*2"
   ]
  },
  {
   "cell_type": "code",
   "execution_count": 71,
   "id": "658d82f6",
   "metadata": {},
   "outputs": [
    {
     "ename": "SyntaxError",
     "evalue": "invalid syntax (<ipython-input-71-98e29f4c6859>, line 3)",
     "output_type": "error",
     "traceback": [
      "\u001b[0;36m  File \u001b[0;32m\"<ipython-input-71-98e29f4c6859>\"\u001b[0;36m, line \u001b[0;32m3\u001b[0m\n\u001b[0;31m    for din map( lamda x: x*2, data ):\u001b[0m\n\u001b[0m            ^\u001b[0m\n\u001b[0;31mSyntaxError\u001b[0m\u001b[0;31m:\u001b[0m invalid syntax\n"
     ]
    }
   ],
   "source": [
    "data[1,2,3,4,5]\n",
    "\n",
    "for din map( lamda x: x*2, data ):\n",
    "    print(d)\n",
    "    "
   ]
  },
  {
   "cell_type": "code",
   "execution_count": 72,
   "id": "8d22df58",
   "metadata": {},
   "outputs": [
    {
     "ename": "SyntaxError",
     "evalue": "invalid syntax (<ipython-input-72-18d5f2e93573>, line 3)",
     "output_type": "error",
     "traceback": [
      "\u001b[0;36m  File \u001b[0;32m\"<ipython-input-72-18d5f2e93573>\"\u001b[0;36m, line \u001b[0;32m3\u001b[0m\n\u001b[0;31m    for d in map( lamda x: x*2, data ):\u001b[0m\n\u001b[0m                        ^\u001b[0m\n\u001b[0;31mSyntaxError\u001b[0m\u001b[0;31m:\u001b[0m invalid syntax\n"
     ]
    }
   ],
   "source": [
    "data[1,2,3,4,5]\n",
    "\n",
    "for d in map( lamda x: x*2, data ):\n",
    "    print(d)\n",
    "    "
   ]
  },
  {
   "cell_type": "code",
   "execution_count": 73,
   "id": "c51fa2c3",
   "metadata": {},
   "outputs": [
    {
     "ename": "TypeError",
     "evalue": "list indices must be integers or slices, not tuple",
     "output_type": "error",
     "traceback": [
      "\u001b[0;31m---------------------------------------------------------------------------\u001b[0m",
      "\u001b[0;31mTypeError\u001b[0m                                 Traceback (most recent call last)",
      "\u001b[0;32m<ipython-input-73-863731fe049e>\u001b[0m in \u001b[0;36m<module>\u001b[0;34m\u001b[0m\n\u001b[0;32m----> 1\u001b[0;31m \u001b[0mdata\u001b[0m\u001b[0;34m[\u001b[0m\u001b[0;36m1\u001b[0m\u001b[0;34m,\u001b[0m\u001b[0;36m2\u001b[0m\u001b[0;34m,\u001b[0m\u001b[0;36m3\u001b[0m\u001b[0;34m,\u001b[0m\u001b[0;36m4\u001b[0m\u001b[0;34m,\u001b[0m\u001b[0;36m5\u001b[0m\u001b[0;34m]\u001b[0m\u001b[0;34m\u001b[0m\u001b[0;34m\u001b[0m\u001b[0m\n\u001b[0m\u001b[1;32m      2\u001b[0m \u001b[0;34m\u001b[0m\u001b[0m\n\u001b[1;32m      3\u001b[0m \u001b[0;32mfor\u001b[0m \u001b[0md\u001b[0m \u001b[0;32min\u001b[0m \u001b[0mmap\u001b[0m\u001b[0;34m(\u001b[0m \u001b[0;32mlambda\u001b[0m \u001b[0mx\u001b[0m\u001b[0;34m:\u001b[0m \u001b[0mx\u001b[0m\u001b[0;34m*\u001b[0m\u001b[0;36m2\u001b[0m\u001b[0;34m,\u001b[0m \u001b[0mdata\u001b[0m \u001b[0;34m)\u001b[0m\u001b[0;34m:\u001b[0m\u001b[0;34m\u001b[0m\u001b[0;34m\u001b[0m\u001b[0m\n\u001b[1;32m      4\u001b[0m     \u001b[0mprint\u001b[0m\u001b[0;34m(\u001b[0m\u001b[0md\u001b[0m\u001b[0;34m)\u001b[0m\u001b[0;34m\u001b[0m\u001b[0;34m\u001b[0m\u001b[0m\n",
      "\u001b[0;31mTypeError\u001b[0m: list indices must be integers or slices, not tuple"
     ]
    }
   ],
   "source": [
    "data[1,2,3,4,5]\n",
    "\n",
    "for d in map( lambda x: x*2, data ):\n",
    "    print(d)"
   ]
  },
  {
   "cell_type": "code",
   "execution_count": 74,
   "id": "5a59f000",
   "metadata": {},
   "outputs": [
    {
     "name": "stdout",
     "output_type": "stream",
     "text": [
      "2\n",
      "4\n",
      "6\n",
      "8\n",
      "10\n"
     ]
    }
   ],
   "source": [
    "data=[1,2,3,4,5]\n",
    "\n",
    "for d in map( lambda x: x*2, data ):\n",
    "    print(d)"
   ]
  },
  {
   "cell_type": "code",
   "execution_count": 75,
   "id": "27437b67",
   "metadata": {},
   "outputs": [
    {
     "ename": "SyntaxError",
     "evalue": "invalid syntax (<ipython-input-75-5fa216d1ae25>, line 1)",
     "output_type": "error",
     "traceback": [
      "\u001b[0;36m  File \u001b[0;32m\"<ipython-input-75-5fa216d1ae25>\"\u001b[0;36m, line \u001b[0;32m1\u001b[0m\n\u001b[0;31m    wrapper()?\u001b[0m\n\u001b[0m             ^\u001b[0m\n\u001b[0;31mSyntaxError\u001b[0m\u001b[0;31m:\u001b[0m invalid syntax\n"
     ]
    }
   ],
   "source": [
    "wrapper()?"
   ]
  },
  {
   "cell_type": "code",
   "execution_count": 76,
   "id": "c6efcfce",
   "metadata": {},
   "outputs": [
    {
     "name": "stdout",
     "output_type": "stream",
     "text": [
      "Object `wrapper` not found.\n"
     ]
    }
   ],
   "source": [
    "wrapper?"
   ]
  },
  {
   "cell_type": "code",
   "execution_count": 77,
   "id": "1e7c6ee1",
   "metadata": {},
   "outputs": [
    {
     "ename": "SyntaxError",
     "evalue": "invalid syntax (<ipython-input-77-c053436db76f>, line 5)",
     "output_type": "error",
     "traceback": [
      "\u001b[0;36m  File \u001b[0;32m\"<ipython-input-77-c053436db76f>\"\u001b[0;36m, line \u001b[0;32m5\u001b[0m\n\u001b[0;31m    rturn wrapper\u001b[0m\n\u001b[0m          ^\u001b[0m\n\u001b[0;31mSyntaxError\u001b[0m\u001b[0;31m:\u001b[0m invalid syntax\n"
     ]
    }
   ],
   "source": [
    "def deco(func):\n",
    "    def wrapper(x):\n",
    "        wx = '---'+x+'---'\n",
    "        return func(wx)\n",
    "    rturn wrapper\n",
    "    \n",
    "@deco\n",
    "def printmsg(x):\n",
    "    print(x, '를 입력하세요.')\n",
    "    \n",
    "str= input('입력하세요.')\n",
    "printmsg(str)\n",
    "\n"
   ]
  },
  {
   "cell_type": "code",
   "execution_count": 78,
   "id": "18218594",
   "metadata": {},
   "outputs": [
    {
     "ename": "KeyboardInterrupt",
     "evalue": "Interrupted by user",
     "output_type": "error",
     "traceback": [
      "\u001b[0;31m---------------------------------------------------------------------------\u001b[0m",
      "\u001b[0;31mKeyboardInterrupt\u001b[0m                         Traceback (most recent call last)",
      "\u001b[0;32m<ipython-input-78-8aa8169e182b>\u001b[0m in \u001b[0;36m<module>\u001b[0;34m\u001b[0m\n\u001b[1;32m      9\u001b[0m     \u001b[0mprint\u001b[0m\u001b[0;34m(\u001b[0m\u001b[0mx\u001b[0m\u001b[0;34m,\u001b[0m \u001b[0;34m'를 입력하세요.'\u001b[0m\u001b[0;34m)\u001b[0m\u001b[0;34m\u001b[0m\u001b[0;34m\u001b[0m\u001b[0m\n\u001b[1;32m     10\u001b[0m \u001b[0;34m\u001b[0m\u001b[0m\n\u001b[0;32m---> 11\u001b[0;31m \u001b[0mstr\u001b[0m\u001b[0;34m=\u001b[0m \u001b[0minput\u001b[0m\u001b[0;34m(\u001b[0m\u001b[0;34m'입력하세요.'\u001b[0m\u001b[0;34m)\u001b[0m\u001b[0;34m\u001b[0m\u001b[0;34m\u001b[0m\u001b[0m\n\u001b[0m\u001b[1;32m     12\u001b[0m \u001b[0mprintmsg\u001b[0m\u001b[0;34m(\u001b[0m\u001b[0mstr\u001b[0m\u001b[0;34m)\u001b[0m\u001b[0;34m\u001b[0m\u001b[0;34m\u001b[0m\u001b[0m\n\u001b[1;32m     13\u001b[0m \u001b[0;34m\u001b[0m\u001b[0m\n",
      "\u001b[0;32m~/opt/anaconda3/lib/python3.8/site-packages/ipykernel/kernelbase.py\u001b[0m in \u001b[0;36mraw_input\u001b[0;34m(self, prompt)\u001b[0m\n\u001b[1;32m    858\u001b[0m                 \u001b[0;34m\"raw_input was called, but this frontend does not support input requests.\"\u001b[0m\u001b[0;34m\u001b[0m\u001b[0;34m\u001b[0m\u001b[0m\n\u001b[1;32m    859\u001b[0m             )\n\u001b[0;32m--> 860\u001b[0;31m         return self._input_request(str(prompt),\n\u001b[0m\u001b[1;32m    861\u001b[0m             \u001b[0mself\u001b[0m\u001b[0;34m.\u001b[0m\u001b[0m_parent_ident\u001b[0m\u001b[0;34m,\u001b[0m\u001b[0;34m\u001b[0m\u001b[0;34m\u001b[0m\u001b[0m\n\u001b[1;32m    862\u001b[0m             \u001b[0mself\u001b[0m\u001b[0;34m.\u001b[0m\u001b[0m_parent_header\u001b[0m\u001b[0;34m,\u001b[0m\u001b[0;34m\u001b[0m\u001b[0;34m\u001b[0m\u001b[0m\n",
      "\u001b[0;32m~/opt/anaconda3/lib/python3.8/site-packages/ipykernel/kernelbase.py\u001b[0m in \u001b[0;36m_input_request\u001b[0;34m(self, prompt, ident, parent, password)\u001b[0m\n\u001b[1;32m    902\u001b[0m             \u001b[0;32mexcept\u001b[0m \u001b[0mKeyboardInterrupt\u001b[0m\u001b[0;34m:\u001b[0m\u001b[0;34m\u001b[0m\u001b[0;34m\u001b[0m\u001b[0m\n\u001b[1;32m    903\u001b[0m                 \u001b[0;31m# re-raise KeyboardInterrupt, to truncate traceback\u001b[0m\u001b[0;34m\u001b[0m\u001b[0;34m\u001b[0m\u001b[0;34m\u001b[0m\u001b[0m\n\u001b[0;32m--> 904\u001b[0;31m                 \u001b[0;32mraise\u001b[0m \u001b[0mKeyboardInterrupt\u001b[0m\u001b[0;34m(\u001b[0m\u001b[0;34m\"Interrupted by user\"\u001b[0m\u001b[0;34m)\u001b[0m \u001b[0;32mfrom\u001b[0m \u001b[0;32mNone\u001b[0m\u001b[0;34m\u001b[0m\u001b[0;34m\u001b[0m\u001b[0m\n\u001b[0m\u001b[1;32m    905\u001b[0m             \u001b[0;32mexcept\u001b[0m \u001b[0mException\u001b[0m \u001b[0;32mas\u001b[0m \u001b[0me\u001b[0m\u001b[0;34m:\u001b[0m\u001b[0;34m\u001b[0m\u001b[0;34m\u001b[0m\u001b[0m\n\u001b[1;32m    906\u001b[0m                 \u001b[0mself\u001b[0m\u001b[0;34m.\u001b[0m\u001b[0mlog\u001b[0m\u001b[0;34m.\u001b[0m\u001b[0mwarning\u001b[0m\u001b[0;34m(\u001b[0m\u001b[0;34m\"Invalid Message:\"\u001b[0m\u001b[0;34m,\u001b[0m \u001b[0mexc_info\u001b[0m\u001b[0;34m=\u001b[0m\u001b[0;32mTrue\u001b[0m\u001b[0;34m)\u001b[0m\u001b[0;34m\u001b[0m\u001b[0;34m\u001b[0m\u001b[0m\n",
      "\u001b[0;31mKeyboardInterrupt\u001b[0m: Interrupted by user"
     ]
    }
   ],
   "source": [
    "def deco(func):\n",
    "    def wrapper(x):\n",
    "        wx = '---'+x+'---'\n",
    "        return func(wx)\n",
    "    return wrapper\n",
    "    \n",
    "@deco\n",
    "def printmsg(x):\n",
    "    print(x, '를 입력하세요.')\n",
    "    \n",
    "str= input('입력하세요.')\n",
    "printmsg(str)\n",
    "\n"
   ]
  },
  {
   "cell_type": "code",
   "execution_count": null,
   "id": "01c747cf",
   "metadata": {},
   "outputs": [],
   "source": []
  },
  {
   "cell_type": "code",
   "execution_count": 79,
   "id": "2ede92e2",
   "metadata": {},
   "outputs": [
    {
     "ename": "KeyboardInterrupt",
     "evalue": "Interrupted by user",
     "output_type": "error",
     "traceback": [
      "\u001b[0;31m---------------------------------------------------------------------------\u001b[0m",
      "\u001b[0;31mKeyboardInterrupt\u001b[0m                         Traceback (most recent call last)",
      "\u001b[0;32m<ipython-input-79-50fa39f2e09c>\u001b[0m in \u001b[0;36m<module>\u001b[0;34m\u001b[0m\n\u001b[1;32m      9\u001b[0m     \u001b[0mprint\u001b[0m\u001b[0;34m(\u001b[0m\u001b[0mx\u001b[0m\u001b[0;34m,\u001b[0m \u001b[0;34m\"를 입력했습니다.\"\u001b[0m\u001b[0;34m)\u001b[0m\u001b[0;34m\u001b[0m\u001b[0;34m\u001b[0m\u001b[0m\n\u001b[1;32m     10\u001b[0m \u001b[0;34m\u001b[0m\u001b[0m\n\u001b[0;32m---> 11\u001b[0;31m \u001b[0mstr\u001b[0m \u001b[0;34m=\u001b[0m \u001b[0minput\u001b[0m\u001b[0;34m(\u001b[0m\u001b[0;34m\"메시지를 입력하세요.\"\u001b[0m\u001b[0;34m)\u001b[0m\u001b[0;34m\u001b[0m\u001b[0;34m\u001b[0m\u001b[0m\n\u001b[0m\u001b[1;32m     12\u001b[0m \u001b[0;34m\u001b[0m\u001b[0m\n\u001b[1;32m     13\u001b[0m \u001b[0mprintmsg\u001b[0m\u001b[0;34m(\u001b[0m\u001b[0mstr\u001b[0m\u001b[0;34m)\u001b[0m\u001b[0;34m\u001b[0m\u001b[0;34m\u001b[0m\u001b[0m\n",
      "\u001b[0;32m~/opt/anaconda3/lib/python3.8/site-packages/ipykernel/kernelbase.py\u001b[0m in \u001b[0;36mraw_input\u001b[0;34m(self, prompt)\u001b[0m\n\u001b[1;32m    858\u001b[0m                 \u001b[0;34m\"raw_input was called, but this frontend does not support input requests.\"\u001b[0m\u001b[0;34m\u001b[0m\u001b[0;34m\u001b[0m\u001b[0m\n\u001b[1;32m    859\u001b[0m             )\n\u001b[0;32m--> 860\u001b[0;31m         return self._input_request(str(prompt),\n\u001b[0m\u001b[1;32m    861\u001b[0m             \u001b[0mself\u001b[0m\u001b[0;34m.\u001b[0m\u001b[0m_parent_ident\u001b[0m\u001b[0;34m,\u001b[0m\u001b[0;34m\u001b[0m\u001b[0;34m\u001b[0m\u001b[0m\n\u001b[1;32m    862\u001b[0m             \u001b[0mself\u001b[0m\u001b[0;34m.\u001b[0m\u001b[0m_parent_header\u001b[0m\u001b[0;34m,\u001b[0m\u001b[0;34m\u001b[0m\u001b[0;34m\u001b[0m\u001b[0m\n",
      "\u001b[0;32m~/opt/anaconda3/lib/python3.8/site-packages/ipykernel/kernelbase.py\u001b[0m in \u001b[0;36m_input_request\u001b[0;34m(self, prompt, ident, parent, password)\u001b[0m\n\u001b[1;32m    902\u001b[0m             \u001b[0;32mexcept\u001b[0m \u001b[0mKeyboardInterrupt\u001b[0m\u001b[0;34m:\u001b[0m\u001b[0;34m\u001b[0m\u001b[0;34m\u001b[0m\u001b[0m\n\u001b[1;32m    903\u001b[0m                 \u001b[0;31m# re-raise KeyboardInterrupt, to truncate traceback\u001b[0m\u001b[0;34m\u001b[0m\u001b[0;34m\u001b[0m\u001b[0;34m\u001b[0m\u001b[0m\n\u001b[0;32m--> 904\u001b[0;31m                 \u001b[0;32mraise\u001b[0m \u001b[0mKeyboardInterrupt\u001b[0m\u001b[0;34m(\u001b[0m\u001b[0;34m\"Interrupted by user\"\u001b[0m\u001b[0;34m)\u001b[0m \u001b[0;32mfrom\u001b[0m \u001b[0;32mNone\u001b[0m\u001b[0;34m\u001b[0m\u001b[0;34m\u001b[0m\u001b[0m\n\u001b[0m\u001b[1;32m    905\u001b[0m             \u001b[0;32mexcept\u001b[0m \u001b[0mException\u001b[0m \u001b[0;32mas\u001b[0m \u001b[0me\u001b[0m\u001b[0;34m:\u001b[0m\u001b[0;34m\u001b[0m\u001b[0;34m\u001b[0m\u001b[0m\n\u001b[1;32m    906\u001b[0m                 \u001b[0mself\u001b[0m\u001b[0;34m.\u001b[0m\u001b[0mlog\u001b[0m\u001b[0;34m.\u001b[0m\u001b[0mwarning\u001b[0m\u001b[0;34m(\u001b[0m\u001b[0;34m\"Invalid Message:\"\u001b[0m\u001b[0;34m,\u001b[0m \u001b[0mexc_info\u001b[0m\u001b[0;34m=\u001b[0m\u001b[0;32mTrue\u001b[0m\u001b[0;34m)\u001b[0m\u001b[0;34m\u001b[0m\u001b[0;34m\u001b[0m\u001b[0m\n",
      "\u001b[0;31mKeyboardInterrupt\u001b[0m: Interrupted by user"
     ]
    }
   ],
   "source": [
    "def deco(func):\n",
    "    def wrapper(x):\n",
    "        wx = \"---\" + x + \"---\"\n",
    "        return func(wx)\n",
    "    return wrapper\n",
    "\n",
    "@deco\n",
    "def printmsg(x):\n",
    "    print(x, \"를 입력했습니다.\")\n",
    "\n",
    "str = input(\"메시지를 입력하세요.\")\n",
    "\n",
    "printmsg(str)"
   ]
  },
  {
   "cell_type": "code",
   "execution_count": null,
   "id": "b6a87857",
   "metadata": {},
   "outputs": [],
   "source": []
  },
  {
   "cell_type": "code",
   "execution_count": 80,
   "id": "333aca6b",
   "metadata": {},
   "outputs": [],
   "source": [
    "#Wrappers around the functions are also knows as decorators which are a very powerful and useful tool in Python since it allows programmers to modify the behavior of function or class. ... In Decorators, functions are taken as the argument into another function and then called inside the wrapper function."
   ]
  },
  {
   "cell_type": "code",
   "execution_count": 81,
   "id": "6fda25c8",
   "metadata": {},
   "outputs": [],
   "source": [
    "def makex(x):\n",
    "    while True:\n",
    "        yield x\n",
    "        x=x+1"
   ]
  },
  {
   "cell_type": "code",
   "execution_count": 82,
   "id": "9c337d82",
   "metadata": {},
   "outputs": [
    {
     "ename": "NameError",
     "evalue": "name 'maker' is not defined",
     "output_type": "error",
     "traceback": [
      "\u001b[0;31m---------------------------------------------------------------------------\u001b[0m",
      "\u001b[0;31mNameError\u001b[0m                                 Traceback (most recent call last)",
      "\u001b[0;32m<ipython-input-82-c79c550f5893>\u001b[0m in \u001b[0;36m<module>\u001b[0;34m\u001b[0m\n\u001b[0;32m----> 1\u001b[0;31m \u001b[0mn\u001b[0m \u001b[0;34m=\u001b[0m \u001b[0mmaker\u001b[0m\u001b[0;34m(\u001b[0m\u001b[0;36m0\u001b[0m\u001b[0;34m)\u001b[0m\u001b[0;34m\u001b[0m\u001b[0;34m\u001b[0m\u001b[0m\n\u001b[0m\u001b[1;32m      2\u001b[0m \u001b[0mprint\u001b[0m\u001b[0;34m(\u001b[0m\u001b[0mnext\u001b[0m\u001b[0;34m(\u001b[0m\u001b[0mn\u001b[0m\u001b[0;34m)\u001b[0m\u001b[0;34m)\u001b[0m\u001b[0;34m\u001b[0m\u001b[0;34m\u001b[0m\u001b[0m\n\u001b[1;32m      3\u001b[0m \u001b[0mprint\u001b[0m\u001b[0;34m(\u001b[0m\u001b[0mnext\u001b[0m\u001b[0;34m(\u001b[0m\u001b[0mn\u001b[0m\u001b[0;34m)\u001b[0m\u001b[0;34m)\u001b[0m\u001b[0;34m\u001b[0m\u001b[0;34m\u001b[0m\u001b[0m\n",
      "\u001b[0;31mNameError\u001b[0m: name 'maker' is not defined"
     ]
    }
   ],
   "source": [
    "n = maker(0)\n",
    "print(next(n))\n",
    "print(next(n))\n"
   ]
  },
  {
   "cell_type": "code",
   "execution_count": 83,
   "id": "fa52839f",
   "metadata": {},
   "outputs": [
    {
     "name": "stdout",
     "output_type": "stream",
     "text": [
      "0\n",
      "1\n"
     ]
    }
   ],
   "source": [
    "n = makex(0)\n",
    "print(next(n))\n",
    "print(next(n))"
   ]
  },
  {
   "cell_type": "code",
   "execution_count": 84,
   "id": "1863bf74",
   "metadata": {},
   "outputs": [],
   "source": [
    "def func(price, num):\n",
    "    tt= price*num\n",
    "    \n",
    "shop='seoul'\n",
    "\n"
   ]
  },
  {
   "cell_type": "code",
   "execution_count": 85,
   "id": "2132cc18",
   "metadata": {},
   "outputs": [],
   "source": [
    "def func():\n",
    "    print(dir())\n",
    "    "
   ]
  },
  {
   "cell_type": "code",
   "execution_count": null,
   "id": "70d61de7",
   "metadata": {},
   "outputs": [],
   "source": []
  }
 ],
 "metadata": {
  "kernelspec": {
   "display_name": "Python 3",
   "language": "python",
   "name": "python3"
  },
  "language_info": {
   "codemirror_mode": {
    "name": "ipython",
    "version": 3
   },
   "file_extension": ".py",
   "mimetype": "text/x-python",
   "name": "python",
   "nbconvert_exporter": "python",
   "pygments_lexer": "ipython3",
   "version": "3.8.8"
  }
 },
 "nbformat": 4,
 "nbformat_minor": 5
}
