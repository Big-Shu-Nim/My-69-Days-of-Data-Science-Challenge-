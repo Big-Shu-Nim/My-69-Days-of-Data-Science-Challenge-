{
 "cells": [
  {
   "cell_type": "code",
   "execution_count": 1,
   "id": "d3435353",
   "metadata": {},
   "outputs": [
    {
     "data": {
      "text/plain": [
       "-0.4000000000000057"
      ]
     },
     "execution_count": 1,
     "metadata": {},
     "output_type": "execute_result"
    }
   ],
   "source": [
    "a=123\n",
    "b=-123.4\n",
    "a+b"
   ]
  },
  {
   "cell_type": "code",
   "execution_count": 2,
   "id": "4f33d9de",
   "metadata": {},
   "outputs": [
    {
     "ename": "NameError",
     "evalue": "name 'c' is not defined",
     "output_type": "error",
     "traceback": [
      "\u001b[0;31m---------------------------------------------------------------------------\u001b[0m",
      "\u001b[0;31mNameError\u001b[0m                                 Traceback (most recent call last)",
      "\u001b[0;32m<ipython-input-2-7b4adfb793e4>\u001b[0m in \u001b[0;36m<module>\u001b[0;34m\u001b[0m\n\u001b[1;32m      1\u001b[0m \u001b[0mC\u001b[0m\u001b[0;34m=\u001b[0m\u001b[0;36m0o34\u001b[0m\u001b[0;34m\u001b[0m\u001b[0;34m\u001b[0m\u001b[0m\n\u001b[1;32m      2\u001b[0m \u001b[0md\u001b[0m\u001b[0;34m=\u001b[0m\u001b[0;36m0o24\u001b[0m\u001b[0;34m\u001b[0m\u001b[0;34m\u001b[0m\u001b[0m\n\u001b[0;32m----> 3\u001b[0;31m \u001b[0mc\u001b[0m\u001b[0;34m+\u001b[0m\u001b[0md\u001b[0m\u001b[0;34m\u001b[0m\u001b[0;34m\u001b[0m\u001b[0m\n\u001b[0m",
      "\u001b[0;31mNameError\u001b[0m: name 'c' is not defined"
     ]
    }
   ],
   "source": [
    "C=0o34\n",
    "d=0o24\n",
    "c+d"
   ]
  },
  {
   "cell_type": "code",
   "execution_count": 3,
   "id": "c5c061a8",
   "metadata": {},
   "outputs": [
    {
     "ename": "SyntaxError",
     "evalue": "invalid syntax (<ipython-input-3-2f108e196361>, line 1)",
     "output_type": "error",
     "traceback": [
      "\u001b[0;36m  File \u001b[0;32m\"<ipython-input-3-2f108e196361>\"\u001b[0;36m, line \u001b[0;32m1\u001b[0m\n\u001b[0;31m    e=0*2A\u001b[0m\n\u001b[0m         ^\u001b[0m\n\u001b[0;31mSyntaxError\u001b[0m\u001b[0;31m:\u001b[0m invalid syntax\n"
     ]
    }
   ],
   "source": [
    "e=0*2A\n",
    "f=0*FF\n",
    "e+f"
   ]
  },
  {
   "cell_type": "code",
   "execution_count": 4,
   "id": "3e6359bd",
   "metadata": {},
   "outputs": [
    {
     "ename": "SyntaxError",
     "evalue": "invalid syntax (<ipython-input-4-7c9415e87cdb>, line 1)",
     "output_type": "error",
     "traceback": [
      "\u001b[0;36m  File \u001b[0;32m\"<ipython-input-4-7c9415e87cdb>\"\u001b[0;36m, line \u001b[0;32m1\u001b[0m\n\u001b[0;31m    e=O*2A\u001b[0m\n\u001b[0m         ^\u001b[0m\n\u001b[0;31mSyntaxError\u001b[0m\u001b[0;31m:\u001b[0m invalid syntax\n"
     ]
    }
   ],
   "source": [
    "e=O*2A\n",
    "f=O*FF\n",
    "e+f\n"
   ]
  },
  {
   "cell_type": "code",
   "execution_count": 5,
   "id": "37e28a82",
   "metadata": {},
   "outputs": [
    {
     "name": "stdout",
     "output_type": "stream",
     "text": [
      "WiseInCompany\n",
      "WsieInCompnayWsieInCompnay\n"
     ]
    }
   ],
   "source": [
    "a=\"Wise\"\n",
    "b=\"InCompany\"\n",
    "print(a+b)\n",
    "a=\"WsieInCompnay\"\n",
    "print(a*2)\n"
   ]
  },
  {
   "cell_type": "code",
   "execution_count": 6,
   "id": "b3acd1c6",
   "metadata": {},
   "outputs": [
    {
     "name": "stdout",
     "output_type": "stream",
     "text": [
      "e\n"
     ]
    }
   ],
   "source": [
    "a=\"wise in Compnay\"\n",
    "print(a[3])\n"
   ]
  },
  {
   "cell_type": "code",
   "execution_count": 7,
   "id": "0f75166e",
   "metadata": {},
   "outputs": [
    {
     "name": "stdout",
     "output_type": "stream",
     "text": [
      "n\n"
     ]
    }
   ],
   "source": [
    "print(a[-3])\n"
   ]
  },
  {
   "cell_type": "code",
   "execution_count": 8,
   "id": "57156dc2",
   "metadata": {},
   "outputs": [
    {
     "name": "stdout",
     "output_type": "stream",
     "text": [
      "wise in Compnay\n"
     ]
    }
   ],
   "source": [
    "print(a[0:15])\n"
   ]
  },
  {
   "cell_type": "code",
   "execution_count": 9,
   "id": "dfdd0d2a",
   "metadata": {},
   "outputs": [
    {
     "name": "stdout",
     "output_type": "stream",
     "text": [
      " in Compnay\n"
     ]
    }
   ],
   "source": [
    "print(a[4:])\n"
   ]
  },
  {
   "cell_type": "code",
   "execution_count": 10,
   "id": "0c4083c0",
   "metadata": {},
   "outputs": [
    {
     "name": "stdout",
     "output_type": "stream",
     "text": [
      "wise\n"
     ]
    }
   ],
   "source": [
    "print(a[0:4])\n"
   ]
  },
  {
   "cell_type": "code",
   "execution_count": 11,
   "id": "ae341ae2",
   "metadata": {},
   "outputs": [
    {
     "name": "stdout",
     "output_type": "stream",
     "text": [
      "[1, 2, 3, 4, 5]\n"
     ]
    }
   ],
   "source": [
    "a=[1,2,3,4,5]\n",
    "print(a)\n"
   ]
  },
  {
   "cell_type": "code",
   "execution_count": 12,
   "id": "935ad697",
   "metadata": {},
   "outputs": [
    {
     "name": "stdout",
     "output_type": "stream",
     "text": [
      "1\n"
     ]
    }
   ],
   "source": [
    "print(a[0])\n"
   ]
  },
  {
   "cell_type": "code",
   "execution_count": 13,
   "id": "345c9076",
   "metadata": {},
   "outputs": [
    {
     "name": "stdout",
     "output_type": "stream",
     "text": [
      "5\n"
     ]
    }
   ],
   "source": [
    "print(a[-1])\n"
   ]
  },
  {
   "cell_type": "code",
   "execution_count": 14,
   "id": "9c20b275",
   "metadata": {},
   "outputs": [
    {
     "name": "stdout",
     "output_type": "stream",
     "text": [
      "[1, 2, 3, 4, 5]\n"
     ]
    }
   ],
   "source": [
    "print(a[0:5])\n"
   ]
  },
  {
   "cell_type": "code",
   "execution_count": 15,
   "id": "4f4c5977",
   "metadata": {},
   "outputs": [
    {
     "name": "stdout",
     "output_type": "stream",
     "text": [
      "[1, 2, 3, 4, 5]\n"
     ]
    }
   ],
   "source": [
    "print(a[:5])\n"
   ]
  },
  {
   "cell_type": "code",
   "execution_count": 16,
   "id": "31c320da",
   "metadata": {},
   "outputs": [
    {
     "name": "stdout",
     "output_type": "stream",
     "text": [
      "[3, 4, 5]\n"
     ]
    }
   ],
   "source": [
    "print(a[2:])\n"
   ]
  },
  {
   "cell_type": "code",
   "execution_count": 17,
   "id": "c96c1d12",
   "metadata": {},
   "outputs": [],
   "source": [
    "a.append(6)\n",
    "a[0]=0\n"
   ]
  },
  {
   "cell_type": "code",
   "execution_count": 18,
   "id": "eac8236a",
   "metadata": {},
   "outputs": [
    {
     "name": "stdout",
     "output_type": "stream",
     "text": [
      "[0, 3, 4, 5, 6]\n"
     ]
    }
   ],
   "source": [
    "del a[1]\n",
    "print(a)\n"
   ]
  },
  {
   "cell_type": "code",
   "execution_count": 19,
   "id": "f8601c85",
   "metadata": {},
   "outputs": [
    {
     "name": "stdout",
     "output_type": "stream",
     "text": [
      "0\n"
     ]
    }
   ],
   "source": [
    "print(a[0])\n"
   ]
  },
  {
   "cell_type": "code",
   "execution_count": 20,
   "id": "eebe481d",
   "metadata": {},
   "outputs": [
    {
     "name": "stdout",
     "output_type": "stream",
     "text": [
      "3\n"
     ]
    }
   ],
   "source": [
    "print(a[1])\n"
   ]
  },
  {
   "cell_type": "code",
   "execution_count": 21,
   "id": "26e4002a",
   "metadata": {},
   "outputs": [
    {
     "name": "stdout",
     "output_type": "stream",
     "text": [
      "[1, 2, 3, 4, 5]\n",
      "[1, 2, 1, 2, 1, 2]\n"
     ]
    }
   ],
   "source": [
    "a=[1,2]\n",
    "b=[3,4,5]\n",
    "c=a+b\n",
    "print(c)\n",
    "d=a*3\n",
    "print(d)\n"
   ]
  },
  {
   "cell_type": "code",
   "execution_count": 22,
   "id": "f3b3acff",
   "metadata": {},
   "outputs": [
    {
     "name": "stdout",
     "output_type": "stream",
     "text": [
      "2\n",
      "(1, 2, 3)\n"
     ]
    }
   ],
   "source": [
    "t=(1,2,3,4,5)\n",
    "t1=(1,2,3)\n",
    "print(t[1])\n",
    "print(t[0:3])\n"
   ]
  },
  {
   "cell_type": "code",
   "execution_count": 23,
   "id": "8e992e46",
   "metadata": {},
   "outputs": [
    {
     "name": "stdout",
     "output_type": "stream",
     "text": [
      "(1, 2)\n"
     ]
    }
   ],
   "source": [
    "print(t[0:2])"
   ]
  },
  {
   "cell_type": "code",
   "execution_count": 24,
   "id": "d98d175e",
   "metadata": {},
   "outputs": [
    {
     "name": "stdout",
     "output_type": "stream",
     "text": [
      "(1,)\n"
     ]
    }
   ],
   "source": [
    "print(t[0:1])"
   ]
  },
  {
   "cell_type": "code",
   "execution_count": 25,
   "id": "e10b2c8e",
   "metadata": {},
   "outputs": [
    {
     "name": "stdout",
     "output_type": "stream",
     "text": [
      "[1, 2, 1, 2, 1, 2]\n",
      "(1, 2, 1, 2, 1, 2)\n"
     ]
    }
   ],
   "source": [
    "a=(1,2)\n",
    "b=(3,4,5)\n",
    "c=a+b\n",
    "print(d)\n",
    "d=a*3\n",
    "print(d)\n"
   ]
  },
  {
   "cell_type": "code",
   "execution_count": 26,
   "id": "926896df",
   "metadata": {},
   "outputs": [
    {
     "name": "stdout",
     "output_type": "stream",
     "text": [
      "(1, 2, 3, 4, 5)\n",
      "(1, 2, 1, 2, 1, 2)\n"
     ]
    }
   ],
   "source": [
    "a=(1,2)\n",
    "b=(3,4,5)\n",
    "c=a+b\n",
    "print(c)\n",
    "d=a*3\n",
    "print(d)\n",
    "\n"
   ]
  },
  {
   "cell_type": "code",
   "execution_count": 27,
   "id": "0bc8b969",
   "metadata": {},
   "outputs": [
    {
     "name": "stdout",
     "output_type": "stream",
     "text": [
      "('David', 'Kim')\n",
      "Kim , David\n"
     ]
    }
   ],
   "source": [
    "name=(\"David\",\"Kim\")\n",
    "print(name)\n",
    "firstname, lastname=(\"David\",\"Kim\")\n",
    "print(lastname,\",\", firstname)\n"
   ]
  },
  {
   "cell_type": "code",
   "execution_count": 28,
   "id": "85d0c226",
   "metadata": {},
   "outputs": [
    {
     "name": "stdout",
     "output_type": "stream",
     "text": [
      "{1, 2, 3}\n"
     ]
    }
   ],
   "source": [
    "set={1,1,2,2,3,3}\n",
    "print(set)\n"
   ]
  },
  {
   "cell_type": "code",
   "execution_count": 29,
   "id": "c9fe5b84",
   "metadata": {},
   "outputs": [
    {
     "data": {
      "text/plain": [
       "{1, 2, 3, 4}"
      ]
     },
     "execution_count": 29,
     "metadata": {},
     "output_type": "execute_result"
    }
   ],
   "source": [
    "set.add(4)\n",
    "set\n"
   ]
  },
  {
   "cell_type": "code",
   "execution_count": 30,
   "id": "44724f44",
   "metadata": {},
   "outputs": [
    {
     "data": {
      "text/plain": [
       "{1, 2, 3, 4, 5, 6}"
      ]
     },
     "execution_count": 30,
     "metadata": {},
     "output_type": "execute_result"
    }
   ],
   "source": [
    "set.update({4,5,6})\n",
    "set"
   ]
  },
  {
   "cell_type": "code",
   "execution_count": 31,
   "id": "234f2609",
   "metadata": {},
   "outputs": [],
   "source": [
    "set.remove(1)\n"
   ]
  },
  {
   "cell_type": "code",
   "execution_count": 32,
   "id": "4108f786",
   "metadata": {},
   "outputs": [
    {
     "data": {
      "text/plain": [
       "{2, 3, 4, 5, 6}"
      ]
     },
     "execution_count": 32,
     "metadata": {},
     "output_type": "execute_result"
    }
   ],
   "source": [
    "set"
   ]
  },
  {
   "cell_type": "code",
   "execution_count": 39,
   "id": "473df299",
   "metadata": {},
   "outputs": [
    {
     "name": "stdout",
     "output_type": "stream",
     "text": [
      "{1, 3}\n",
      "{1, 2, 3, 4}\n",
      "{2}\n"
     ]
    }
   ],
   "source": [
    "a={1,2,3}\n",
    "b={1,3,4}\n",
    "c=a&b\n",
    "print(c)\n",
    "d=a|b\n",
    "print(d)\n",
    "e=a-b\n",
    "print(e)\n"
   ]
  },
  {
   "cell_type": "code",
   "execution_count": 40,
   "id": "0ecb056d",
   "metadata": {},
   "outputs": [
    {
     "data": {
      "text/plain": [
       "90"
      ]
     },
     "execution_count": 40,
     "metadata": {},
     "output_type": "execute_result"
    }
   ],
   "source": [
    "test={\"Kim\":90, \"Jeong\":80, \"park\":75}\n",
    "test[\"Kim\"]\n"
   ]
  },
  {
   "cell_type": "code",
   "execution_count": 41,
   "id": "4d177b55",
   "metadata": {},
   "outputs": [
    {
     "ename": "TypeError",
     "evalue": "'builtin_function_or_method' object is not subscriptable",
     "output_type": "error",
     "traceback": [
      "\u001b[0;31m---------------------------------------------------------------------------\u001b[0m",
      "\u001b[0;31mTypeError\u001b[0m                                 Traceback (most recent call last)",
      "\u001b[0;32m<ipython-input-41-66c3ac6e39a8>\u001b[0m in \u001b[0;36m<module>\u001b[0;34m\u001b[0m\n\u001b[1;32m      2\u001b[0m \u001b[0mtest\u001b[0m\u001b[0;34m[\u001b[0m\u001b[0;34m\"Cho\"\u001b[0m\u001b[0;34m]\u001b[0m\u001b[0;34m=\u001b[0m\u001b[0;36m95\u001b[0m\u001b[0;34m\u001b[0m\u001b[0;34m\u001b[0m\u001b[0m\n\u001b[1;32m      3\u001b[0m \u001b[0;32mdel\u001b[0m \u001b[0mtest\u001b[0m\u001b[0;34m[\u001b[0m\u001b[0;34m\"park\"\u001b[0m\u001b[0;34m]\u001b[0m\u001b[0;34m\u001b[0m\u001b[0;34m\u001b[0m\u001b[0m\n\u001b[0;32m----> 4\u001b[0;31m \u001b[0mprint\u001b[0m\u001b[0;34m[\u001b[0m\u001b[0mtest\u001b[0m\u001b[0;34m]\u001b[0m\u001b[0;34m\u001b[0m\u001b[0;34m\u001b[0m\u001b[0m\n\u001b[0m",
      "\u001b[0;31mTypeError\u001b[0m: 'builtin_function_or_method' object is not subscriptable"
     ]
    }
   ],
   "source": [
    "test['Jeong']=85\n",
    "test[\"Cho\"]=95\n",
    "del test[\"park\"]\n",
    "print[test]\n"
   ]
  },
  {
   "cell_type": "code",
   "execution_count": 42,
   "id": "8d1679bd",
   "metadata": {},
   "outputs": [
    {
     "ename": "SyntaxError",
     "evalue": "invalid syntax (<ipython-input-42-fb5f7adaf079>, line 1)",
     "output_type": "error",
     "traceback": [
      "\u001b[0;36m  File \u001b[0;32m\"<ipython-input-42-fb5f7adaf079>\"\u001b[0;36m, line \u001b[0;32m1\u001b[0m\n\u001b[0;31m    test={'kim':90, 'Jeong':80, \"park\",75}\u001b[0m\n\u001b[0m                                      ^\u001b[0m\n\u001b[0;31mSyntaxError\u001b[0m\u001b[0;31m:\u001b[0m invalid syntax\n"
     ]
    }
   ],
   "source": [
    "test={'kim':90, 'Jeong':80, \"park\",75}\n",
    "test['Jeong']=85\n",
    "test['Cho']=95\n",
    "del test[\"Park\"]\n",
    "print(test)\n"
   ]
  },
  {
   "cell_type": "code",
   "execution_count": 43,
   "id": "2451eb7e",
   "metadata": {},
   "outputs": [
    {
     "ename": "SyntaxError",
     "evalue": "invalid syntax (<ipython-input-43-3cb54c577577>, line 1)",
     "output_type": "error",
     "traceback": [
      "\u001b[0;36m  File \u001b[0;32m\"<ipython-input-43-3cb54c577577>\"\u001b[0;36m, line \u001b[0;32m1\u001b[0m\n\u001b[0;31m    test={'kim':90, 'Jeong':80, 'park',75}\u001b[0m\n\u001b[0m                                      ^\u001b[0m\n\u001b[0;31mSyntaxError\u001b[0m\u001b[0;31m:\u001b[0m invalid syntax\n"
     ]
    }
   ],
   "source": [
    "test={'kim':90, 'Jeong':80, 'park',75}\n",
    "test['Jeong']=85\n",
    "test['Cho']=95\n",
    "del test['Park']"
   ]
  },
  {
   "cell_type": "code",
   "execution_count": 44,
   "id": "56cfdbdc",
   "metadata": {},
   "outputs": [
    {
     "ename": "KeyError",
     "evalue": "'Park'",
     "output_type": "error",
     "traceback": [
      "\u001b[0;31m---------------------------------------------------------------------------\u001b[0m",
      "\u001b[0;31mKeyError\u001b[0m                                  Traceback (most recent call last)",
      "\u001b[0;32m<ipython-input-44-f8a9fc7c4e61>\u001b[0m in \u001b[0;36m<module>\u001b[0;34m\u001b[0m\n\u001b[1;32m      2\u001b[0m \u001b[0mtest\u001b[0m\u001b[0;34m[\u001b[0m\u001b[0;34m'Jeong'\u001b[0m\u001b[0;34m]\u001b[0m\u001b[0;34m=\u001b[0m\u001b[0;36m85\u001b[0m\u001b[0;34m\u001b[0m\u001b[0;34m\u001b[0m\u001b[0m\n\u001b[1;32m      3\u001b[0m \u001b[0mtest\u001b[0m\u001b[0;34m[\u001b[0m\u001b[0;34m'Cho'\u001b[0m\u001b[0;34m]\u001b[0m\u001b[0;34m=\u001b[0m\u001b[0;36m95\u001b[0m\u001b[0;34m\u001b[0m\u001b[0;34m\u001b[0m\u001b[0m\n\u001b[0;32m----> 4\u001b[0;31m \u001b[0;32mdel\u001b[0m \u001b[0mtest\u001b[0m\u001b[0;34m[\u001b[0m\u001b[0;34m'Park'\u001b[0m\u001b[0;34m]\u001b[0m\u001b[0;34m\u001b[0m\u001b[0;34m\u001b[0m\u001b[0m\n\u001b[0m",
      "\u001b[0;31mKeyError\u001b[0m: 'Park'"
     ]
    }
   ],
   "source": [
    "test={'kim':90, 'Jeong':80, 'park':75}\n",
    "test['Jeong']=85\n",
    "test['Cho']=95\n",
    "del test['Park']"
   ]
  },
  {
   "cell_type": "code",
   "execution_count": 45,
   "id": "c02c1f51",
   "metadata": {},
   "outputs": [],
   "source": [
    "test={'kim':90, 'Jeong':80, 'Park':75}\n",
    "test['Jeong']=85\n",
    "test['Cho']=95\n",
    "del test['Park']"
   ]
  },
  {
   "cell_type": "code",
   "execution_count": 46,
   "id": "f3854a2d",
   "metadata": {},
   "outputs": [
    {
     "name": "stdout",
     "output_type": "stream",
     "text": [
      "{'kim': 90, 'Jeong': 85, 'Cho': 95}\n"
     ]
    }
   ],
   "source": [
    "print(test)\n"
   ]
  },
  {
   "cell_type": "code",
   "execution_count": 47,
   "id": "097340e1",
   "metadata": {},
   "outputs": [
    {
     "name": "stdout",
     "output_type": "stream",
     "text": [
      "dict_keys(['Kim', 'Jeong', 'Park'])\n",
      "dict_values([90, 80, 75])\n"
     ]
    }
   ],
   "source": [
    "test={\"Kim\":90, \"Jeong\":80, \"Park\":75}\n",
    "print(test.keys())\n",
    "print(test.values())\n"
   ]
  },
  {
   "cell_type": "code",
   "execution_count": 48,
   "id": "9d2e6577",
   "metadata": {},
   "outputs": [
    {
     "ename": "SyntaxError",
     "evalue": "invalid syntax (<ipython-input-48-cdd088af5881>, line 4)",
     "output_type": "error",
     "traceback": [
      "\u001b[0;36m  File \u001b[0;32m\"<ipython-input-48-cdd088af5881>\"\u001b[0;36m, line \u001b[0;32m4\u001b[0m\n\u001b[0;31m    elift mmoney>=5000:\u001b[0m\n\u001b[0m          ^\u001b[0m\n\u001b[0;31mSyntaxError\u001b[0m\u001b[0;31m:\u001b[0m invalid syntax\n"
     ]
    }
   ],
   "source": [
    "money=4000\n",
    "if money==3000:\n",
    "    print(\"Riding on KTX\")\n",
    "    elift mmoney>=5000:\n",
    "        print(\"taking a bus\")\n",
    "        else:\n",
    "            Print(\"on your foot\")\n",
    "            "
   ]
  },
  {
   "cell_type": "code",
   "execution_count": 49,
   "id": "2372a828",
   "metadata": {},
   "outputs": [
    {
     "ename": "SyntaxError",
     "evalue": "invalid syntax (<ipython-input-49-0c508ec9e715>, line 4)",
     "output_type": "error",
     "traceback": [
      "\u001b[0;36m  File \u001b[0;32m\"<ipython-input-49-0c508ec9e715>\"\u001b[0;36m, line \u001b[0;32m4\u001b[0m\n\u001b[0;31m    elift money>=5000:\u001b[0m\n\u001b[0m          ^\u001b[0m\n\u001b[0;31mSyntaxError\u001b[0m\u001b[0;31m:\u001b[0m invalid syntax\n"
     ]
    }
   ],
   "source": [
    "money=4000\n",
    "if money==3000:\n",
    "    print(\"Riding on KTX\")\n",
    "    elift money>=5000:\n",
    "        print(\"taking a bus\")\n",
    "        else:\n",
    "            Print(\"on your foot\")"
   ]
  },
  {
   "cell_type": "code",
   "execution_count": 50,
   "id": "c8efb57e",
   "metadata": {},
   "outputs": [
    {
     "ename": "SyntaxError",
     "evalue": "invalid syntax (<ipython-input-50-036d35b1c4db>, line 4)",
     "output_type": "error",
     "traceback": [
      "\u001b[0;36m  File \u001b[0;32m\"<ipython-input-50-036d35b1c4db>\"\u001b[0;36m, line \u001b[0;32m4\u001b[0m\n\u001b[0;31m    elif money>=5000:\u001b[0m\n\u001b[0m    ^\u001b[0m\n\u001b[0;31mSyntaxError\u001b[0m\u001b[0;31m:\u001b[0m invalid syntax\n"
     ]
    }
   ],
   "source": [
    "money=4000\n",
    "if money==3000:\n",
    "    print(\"Riding on KTX\")\n",
    "    elif money>=5000:\n",
    "        print(\"taking a bus\")\n",
    "        else:\n",
    "            Print(\"on your foot\")"
   ]
  },
  {
   "cell_type": "code",
   "execution_count": 51,
   "id": "3cf6c9a0",
   "metadata": {},
   "outputs": [
    {
     "ename": "SyntaxError",
     "evalue": "invalid syntax (<ipython-input-51-6c183c275b1e>, line 4)",
     "output_type": "error",
     "traceback": [
      "\u001b[0;36m  File \u001b[0;32m\"<ipython-input-51-6c183c275b1e>\"\u001b[0;36m, line \u001b[0;32m4\u001b[0m\n\u001b[0;31m    elif money>=5000:\u001b[0m\n\u001b[0m    ^\u001b[0m\n\u001b[0;31mSyntaxError\u001b[0m\u001b[0;31m:\u001b[0m invalid syntax\n"
     ]
    }
   ],
   "source": [
    "money=4000\n",
    "if money==3000:\n",
    "    print(\"Riding on KTX\")\n",
    "    elif money>=5000:\n",
    "        print(\"taking a bus\")\n",
    "        else:\n",
    "            print(\"on your foot\")\n",
    "            "
   ]
  },
  {
   "cell_type": "code",
   "execution_count": 52,
   "id": "9e8410dd",
   "metadata": {},
   "outputs": [
    {
     "name": "stdout",
     "output_type": "stream",
     "text": [
      "on your foot\n"
     ]
    }
   ],
   "source": [
    "money=4000\n",
    "if money==3000:\n",
    "    print(\"Riding on KTX\")\n",
    "elif money>=5000:\n",
    "    print(\"Riding on a bus\")\n",
    "else:\n",
    "    print(\"on your foot\")"
   ]
  },
  {
   "cell_type": "code",
   "execution_count": 53,
   "id": "b5ba3e1f",
   "metadata": {},
   "outputs": [
    {
     "name": "stdout",
     "output_type": "stream",
     "text": [
      "55\n"
     ]
    }
   ],
   "source": [
    "sum=0\n",
    "for i in range(11):\n",
    "    sum=sum+i\n",
    "print(sum)\n"
   ]
  },
  {
   "cell_type": "code",
   "execution_count": 54,
   "id": "4f1b0718",
   "metadata": {},
   "outputs": [
    {
     "ename": "SyntaxError",
     "evalue": "unmatched ']' (<ipython-input-54-274588cf7feb>, line 1)",
     "output_type": "error",
     "traceback": [
      "\u001b[0;36m  File \u001b[0;32m\"<ipython-input-54-274588cf7feb>\"\u001b[0;36m, line \u001b[0;32m1\u001b[0m\n\u001b[0;31m    list='Wise','In','Company']\u001b[0m\n\u001b[0m                              ^\u001b[0m\n\u001b[0;31mSyntaxError\u001b[0m\u001b[0;31m:\u001b[0m unmatched ']'\n"
     ]
    }
   ],
   "source": [
    "list='Wise','In','Company']\n",
    "for s in list:\n",
    "    print(s)\n",
    "    "
   ]
  },
  {
   "cell_type": "code",
   "execution_count": 55,
   "id": "406b6684",
   "metadata": {},
   "outputs": [
    {
     "name": "stdout",
     "output_type": "stream",
     "text": [
      "Wise\n",
      "In\n",
      "Company\n"
     ]
    }
   ],
   "source": [
    "list=['Wise','In','Company']\n",
    "for s in list:\n",
    "    print(s)"
   ]
  },
  {
   "cell_type": "code",
   "execution_count": 56,
   "id": "25e182b2",
   "metadata": {},
   "outputs": [
    {
     "name": "stdout",
     "output_type": "stream",
     "text": [
      "0\n",
      "1\n",
      "2\n",
      "3\n",
      "4\n",
      "5\n",
      "6\n",
      "7\n",
      "8\n",
      "9\n"
     ]
    }
   ],
   "source": [
    "i=0\n",
    "while i<10:\n",
    "    print(i)\n",
    "    i=i+1"
   ]
  },
  {
   "cell_type": "code",
   "execution_count": 57,
   "id": "7ac203a8",
   "metadata": {},
   "outputs": [
    {
     "name": "stdout",
     "output_type": "stream",
     "text": [
      "apple\n",
      "banana\n",
      "bread\n"
     ]
    }
   ],
   "source": [
    "food=[\"apple\",\"banana\",\"bread\"]\n",
    "i=0\n",
    "while i <len(food):\n",
    "    print(food[i])\n",
    "    i=i+1\n",
    "    "
   ]
  },
  {
   "cell_type": "code",
   "execution_count": null,
   "id": "77f7acba",
   "metadata": {},
   "outputs": [],
   "source": []
  }
 ],
 "metadata": {
  "kernelspec": {
   "display_name": "Python 3",
   "language": "python",
   "name": "python3"
  },
  "language_info": {
   "codemirror_mode": {
    "name": "ipython",
    "version": 3
   },
   "file_extension": ".py",
   "mimetype": "text/x-python",
   "name": "python",
   "nbconvert_exporter": "python",
   "pygments_lexer": "ipython3",
   "version": "3.8.8"
  }
 },
 "nbformat": 4,
 "nbformat_minor": 5
}
